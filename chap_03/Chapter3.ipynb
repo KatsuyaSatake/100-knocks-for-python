{
 "cells": [
  {
   "cell_type": "markdown",
   "metadata": {},
   "source": [
    "# ノック21：データを読み込んで把握\n",
    "### ファイルの種類\n",
    "* use_log.csv : ジムの利用履歴データ。期間＝2018/4～2019/3\n",
    "* customer_master.csv : 会員データ。2019年3月末時点\n",
    "* class_master.csv     : 会員区分データ(オールタイム、デイタイムなど)\n",
    "* campaign_master.csv  : キャンペーン区分データ(入会費無料とか)"
   ]
  },
  {
   "cell_type": "code",
   "execution_count": 94,
   "metadata": {},
   "outputs": [
    {
     "name": "stdout",
     "output_type": "stream",
     "text": [
      "197428\n"
     ]
    },
    {
     "data": {
      "text/html": [
       "<div>\n",
       "<style scoped>\n",
       "    .dataframe tbody tr th:only-of-type {\n",
       "        vertical-align: middle;\n",
       "    }\n",
       "\n",
       "    .dataframe tbody tr th {\n",
       "        vertical-align: top;\n",
       "    }\n",
       "\n",
       "    .dataframe thead th {\n",
       "        text-align: right;\n",
       "    }\n",
       "</style>\n",
       "<table border=\"1\" class=\"dataframe\">\n",
       "  <thead>\n",
       "    <tr style=\"text-align: right;\">\n",
       "      <th></th>\n",
       "      <th>log_id</th>\n",
       "      <th>customer_id</th>\n",
       "      <th>usedate</th>\n",
       "    </tr>\n",
       "  </thead>\n",
       "  <tbody>\n",
       "    <tr>\n",
       "      <th>0</th>\n",
       "      <td>L00000049012330</td>\n",
       "      <td>AS009373</td>\n",
       "      <td>2018-04-01</td>\n",
       "    </tr>\n",
       "    <tr>\n",
       "      <th>1</th>\n",
       "      <td>L00000049012331</td>\n",
       "      <td>AS015315</td>\n",
       "      <td>2018-04-01</td>\n",
       "    </tr>\n",
       "    <tr>\n",
       "      <th>2</th>\n",
       "      <td>L00000049012332</td>\n",
       "      <td>AS040841</td>\n",
       "      <td>2018-04-01</td>\n",
       "    </tr>\n",
       "    <tr>\n",
       "      <th>3</th>\n",
       "      <td>L00000049012333</td>\n",
       "      <td>AS046594</td>\n",
       "      <td>2018-04-01</td>\n",
       "    </tr>\n",
       "    <tr>\n",
       "      <th>4</th>\n",
       "      <td>L00000049012334</td>\n",
       "      <td>AS073285</td>\n",
       "      <td>2018-04-01</td>\n",
       "    </tr>\n",
       "  </tbody>\n",
       "</table>\n",
       "</div>"
      ],
      "text/plain": [
       "            log_id customer_id     usedate\n",
       "0  L00000049012330    AS009373  2018-04-01\n",
       "1  L00000049012331    AS015315  2018-04-01\n",
       "2  L00000049012332    AS040841  2018-04-01\n",
       "3  L00000049012333    AS046594  2018-04-01\n",
       "4  L00000049012334    AS073285  2018-04-01"
      ]
     },
     "execution_count": 94,
     "metadata": {},
     "output_type": "execute_result"
    }
   ],
   "source": [
    "import pandas as pd\n",
    "\n",
    "uselog = pd.read_csv('use_log.csv')\n",
    "print(len(uselog))\n",
    "uselog.head()"
   ]
  },
  {
   "cell_type": "code",
   "execution_count": 95,
   "metadata": {},
   "outputs": [
    {
     "name": "stdout",
     "output_type": "stream",
     "text": [
      "4192\n"
     ]
    },
    {
     "data": {
      "text/html": [
       "<div>\n",
       "<style scoped>\n",
       "    .dataframe tbody tr th:only-of-type {\n",
       "        vertical-align: middle;\n",
       "    }\n",
       "\n",
       "    .dataframe tbody tr th {\n",
       "        vertical-align: top;\n",
       "    }\n",
       "\n",
       "    .dataframe thead th {\n",
       "        text-align: right;\n",
       "    }\n",
       "</style>\n",
       "<table border=\"1\" class=\"dataframe\">\n",
       "  <thead>\n",
       "    <tr style=\"text-align: right;\">\n",
       "      <th></th>\n",
       "      <th>customer_id</th>\n",
       "      <th>name</th>\n",
       "      <th>class</th>\n",
       "      <th>gender</th>\n",
       "      <th>start_date</th>\n",
       "      <th>end_date</th>\n",
       "      <th>campaign_id</th>\n",
       "      <th>is_deleted</th>\n",
       "    </tr>\n",
       "  </thead>\n",
       "  <tbody>\n",
       "    <tr>\n",
       "      <th>0</th>\n",
       "      <td>OA832399</td>\n",
       "      <td>XXXX</td>\n",
       "      <td>C01</td>\n",
       "      <td>F</td>\n",
       "      <td>2015-05-01 00:00:00</td>\n",
       "      <td>NaN</td>\n",
       "      <td>CA1</td>\n",
       "      <td>0</td>\n",
       "    </tr>\n",
       "    <tr>\n",
       "      <th>1</th>\n",
       "      <td>PL270116</td>\n",
       "      <td>XXXXX</td>\n",
       "      <td>C01</td>\n",
       "      <td>M</td>\n",
       "      <td>2015-05-01 00:00:00</td>\n",
       "      <td>NaN</td>\n",
       "      <td>CA1</td>\n",
       "      <td>0</td>\n",
       "    </tr>\n",
       "    <tr>\n",
       "      <th>2</th>\n",
       "      <td>OA974876</td>\n",
       "      <td>XXXXX</td>\n",
       "      <td>C01</td>\n",
       "      <td>M</td>\n",
       "      <td>2015-05-01 00:00:00</td>\n",
       "      <td>NaN</td>\n",
       "      <td>CA1</td>\n",
       "      <td>0</td>\n",
       "    </tr>\n",
       "    <tr>\n",
       "      <th>3</th>\n",
       "      <td>HD024127</td>\n",
       "      <td>XXXXX</td>\n",
       "      <td>C01</td>\n",
       "      <td>F</td>\n",
       "      <td>2015-05-01 00:00:00</td>\n",
       "      <td>NaN</td>\n",
       "      <td>CA1</td>\n",
       "      <td>0</td>\n",
       "    </tr>\n",
       "    <tr>\n",
       "      <th>4</th>\n",
       "      <td>HD661448</td>\n",
       "      <td>XXXXX</td>\n",
       "      <td>C03</td>\n",
       "      <td>F</td>\n",
       "      <td>2015-05-01 00:00:00</td>\n",
       "      <td>NaN</td>\n",
       "      <td>CA1</td>\n",
       "      <td>0</td>\n",
       "    </tr>\n",
       "  </tbody>\n",
       "</table>\n",
       "</div>"
      ],
      "text/plain": [
       "  customer_id   name class gender           start_date end_date campaign_id  \\\n",
       "0    OA832399   XXXX   C01      F  2015-05-01 00:00:00      NaN         CA1   \n",
       "1    PL270116  XXXXX   C01      M  2015-05-01 00:00:00      NaN         CA1   \n",
       "2    OA974876  XXXXX   C01      M  2015-05-01 00:00:00      NaN         CA1   \n",
       "3    HD024127  XXXXX   C01      F  2015-05-01 00:00:00      NaN         CA1   \n",
       "4    HD661448  XXXXX   C03      F  2015-05-01 00:00:00      NaN         CA1   \n",
       "\n",
       "   is_deleted  \n",
       "0           0  \n",
       "1           0  \n",
       "2           0  \n",
       "3           0  \n",
       "4           0  "
      ]
     },
     "execution_count": 95,
     "metadata": {},
     "output_type": "execute_result"
    }
   ],
   "source": [
    "customer = pd.read_csv('customer_master.csv')\n",
    "print(len(customer))\n",
    "customer.head()"
   ]
  },
  {
   "cell_type": "code",
   "execution_count": 96,
   "metadata": {},
   "outputs": [
    {
     "name": "stdout",
     "output_type": "stream",
     "text": [
      "3\n"
     ]
    },
    {
     "data": {
      "text/html": [
       "<div>\n",
       "<style scoped>\n",
       "    .dataframe tbody tr th:only-of-type {\n",
       "        vertical-align: middle;\n",
       "    }\n",
       "\n",
       "    .dataframe tbody tr th {\n",
       "        vertical-align: top;\n",
       "    }\n",
       "\n",
       "    .dataframe thead th {\n",
       "        text-align: right;\n",
       "    }\n",
       "</style>\n",
       "<table border=\"1\" class=\"dataframe\">\n",
       "  <thead>\n",
       "    <tr style=\"text-align: right;\">\n",
       "      <th></th>\n",
       "      <th>class</th>\n",
       "      <th>class_name</th>\n",
       "      <th>price</th>\n",
       "    </tr>\n",
       "  </thead>\n",
       "  <tbody>\n",
       "    <tr>\n",
       "      <th>0</th>\n",
       "      <td>C01</td>\n",
       "      <td>オールタイム</td>\n",
       "      <td>10500</td>\n",
       "    </tr>\n",
       "    <tr>\n",
       "      <th>1</th>\n",
       "      <td>C02</td>\n",
       "      <td>デイタイム</td>\n",
       "      <td>7500</td>\n",
       "    </tr>\n",
       "    <tr>\n",
       "      <th>2</th>\n",
       "      <td>C03</td>\n",
       "      <td>ナイト</td>\n",
       "      <td>6000</td>\n",
       "    </tr>\n",
       "  </tbody>\n",
       "</table>\n",
       "</div>"
      ],
      "text/plain": [
       "  class class_name  price\n",
       "0   C01     オールタイム  10500\n",
       "1   C02      デイタイム   7500\n",
       "2   C03        ナイト   6000"
      ]
     },
     "execution_count": 96,
     "metadata": {},
     "output_type": "execute_result"
    }
   ],
   "source": [
    "class_master = pd.read_csv('class_master.csv')\n",
    "print(len(class_master))\n",
    "class_master.head()"
   ]
  },
  {
   "cell_type": "code",
   "execution_count": 97,
   "metadata": {},
   "outputs": [
    {
     "name": "stdout",
     "output_type": "stream",
     "text": [
      "3\n"
     ]
    },
    {
     "data": {
      "text/html": [
       "<div>\n",
       "<style scoped>\n",
       "    .dataframe tbody tr th:only-of-type {\n",
       "        vertical-align: middle;\n",
       "    }\n",
       "\n",
       "    .dataframe tbody tr th {\n",
       "        vertical-align: top;\n",
       "    }\n",
       "\n",
       "    .dataframe thead th {\n",
       "        text-align: right;\n",
       "    }\n",
       "</style>\n",
       "<table border=\"1\" class=\"dataframe\">\n",
       "  <thead>\n",
       "    <tr style=\"text-align: right;\">\n",
       "      <th></th>\n",
       "      <th>campaign_id</th>\n",
       "      <th>campaign_name</th>\n",
       "    </tr>\n",
       "  </thead>\n",
       "  <tbody>\n",
       "    <tr>\n",
       "      <th>0</th>\n",
       "      <td>CA1</td>\n",
       "      <td>通常</td>\n",
       "    </tr>\n",
       "    <tr>\n",
       "      <th>1</th>\n",
       "      <td>CA2</td>\n",
       "      <td>入会費半額</td>\n",
       "    </tr>\n",
       "    <tr>\n",
       "      <th>2</th>\n",
       "      <td>CA3</td>\n",
       "      <td>入会費無料</td>\n",
       "    </tr>\n",
       "  </tbody>\n",
       "</table>\n",
       "</div>"
      ],
      "text/plain": [
       "  campaign_id campaign_name\n",
       "0         CA1            通常\n",
       "1         CA2         入会費半額\n",
       "2         CA3         入会費無料"
      ]
     },
     "execution_count": 97,
     "metadata": {},
     "output_type": "execute_result"
    }
   ],
   "source": [
    "campaign_master = pd.read_csv('campaign_master.csv')\n",
    "print(len(campaign_master))\n",
    "campaign_master.head()"
   ]
  },
  {
   "cell_type": "markdown",
   "metadata": {},
   "source": [
    "# ノック22：顧客データを成型する\n",
    "顧客データを主にして、会員区分データとキャンペーン区分データを結合する。<br>\n"
   ]
  },
  {
   "cell_type": "code",
   "execution_count": 98,
   "metadata": {},
   "outputs": [
    {
     "data": {
      "text/html": [
       "<div>\n",
       "<style scoped>\n",
       "    .dataframe tbody tr th:only-of-type {\n",
       "        vertical-align: middle;\n",
       "    }\n",
       "\n",
       "    .dataframe tbody tr th {\n",
       "        vertical-align: top;\n",
       "    }\n",
       "\n",
       "    .dataframe thead th {\n",
       "        text-align: right;\n",
       "    }\n",
       "</style>\n",
       "<table border=\"1\" class=\"dataframe\">\n",
       "  <thead>\n",
       "    <tr style=\"text-align: right;\">\n",
       "      <th></th>\n",
       "      <th>customer_id</th>\n",
       "      <th>name</th>\n",
       "      <th>class</th>\n",
       "      <th>gender</th>\n",
       "      <th>start_date</th>\n",
       "      <th>end_date</th>\n",
       "      <th>campaign_id</th>\n",
       "      <th>is_deleted</th>\n",
       "      <th>class_name</th>\n",
       "      <th>price</th>\n",
       "    </tr>\n",
       "  </thead>\n",
       "  <tbody>\n",
       "    <tr>\n",
       "      <th>0</th>\n",
       "      <td>OA832399</td>\n",
       "      <td>XXXX</td>\n",
       "      <td>C01</td>\n",
       "      <td>F</td>\n",
       "      <td>2015-05-01 00:00:00</td>\n",
       "      <td>NaN</td>\n",
       "      <td>CA1</td>\n",
       "      <td>0</td>\n",
       "      <td>オールタイム</td>\n",
       "      <td>10500</td>\n",
       "    </tr>\n",
       "    <tr>\n",
       "      <th>1</th>\n",
       "      <td>PL270116</td>\n",
       "      <td>XXXXX</td>\n",
       "      <td>C01</td>\n",
       "      <td>M</td>\n",
       "      <td>2015-05-01 00:00:00</td>\n",
       "      <td>NaN</td>\n",
       "      <td>CA1</td>\n",
       "      <td>0</td>\n",
       "      <td>オールタイム</td>\n",
       "      <td>10500</td>\n",
       "    </tr>\n",
       "    <tr>\n",
       "      <th>2</th>\n",
       "      <td>OA974876</td>\n",
       "      <td>XXXXX</td>\n",
       "      <td>C01</td>\n",
       "      <td>M</td>\n",
       "      <td>2015-05-01 00:00:00</td>\n",
       "      <td>NaN</td>\n",
       "      <td>CA1</td>\n",
       "      <td>0</td>\n",
       "      <td>オールタイム</td>\n",
       "      <td>10500</td>\n",
       "    </tr>\n",
       "    <tr>\n",
       "      <th>3</th>\n",
       "      <td>HD024127</td>\n",
       "      <td>XXXXX</td>\n",
       "      <td>C01</td>\n",
       "      <td>F</td>\n",
       "      <td>2015-05-01 00:00:00</td>\n",
       "      <td>NaN</td>\n",
       "      <td>CA1</td>\n",
       "      <td>0</td>\n",
       "      <td>オールタイム</td>\n",
       "      <td>10500</td>\n",
       "    </tr>\n",
       "    <tr>\n",
       "      <th>4</th>\n",
       "      <td>HD661448</td>\n",
       "      <td>XXXXX</td>\n",
       "      <td>C03</td>\n",
       "      <td>F</td>\n",
       "      <td>2015-05-01 00:00:00</td>\n",
       "      <td>NaN</td>\n",
       "      <td>CA1</td>\n",
       "      <td>0</td>\n",
       "      <td>ナイト</td>\n",
       "      <td>6000</td>\n",
       "    </tr>\n",
       "  </tbody>\n",
       "</table>\n",
       "</div>"
      ],
      "text/plain": [
       "  customer_id   name class gender           start_date end_date campaign_id  \\\n",
       "0    OA832399   XXXX   C01      F  2015-05-01 00:00:00      NaN         CA1   \n",
       "1    PL270116  XXXXX   C01      M  2015-05-01 00:00:00      NaN         CA1   \n",
       "2    OA974876  XXXXX   C01      M  2015-05-01 00:00:00      NaN         CA1   \n",
       "3    HD024127  XXXXX   C01      F  2015-05-01 00:00:00      NaN         CA1   \n",
       "4    HD661448  XXXXX   C03      F  2015-05-01 00:00:00      NaN         CA1   \n",
       "\n",
       "   is_deleted class_name  price  \n",
       "0           0     オールタイム  10500  \n",
       "1           0     オールタイム  10500  \n",
       "2           0     オールタイム  10500  \n",
       "3           0     オールタイム  10500  \n",
       "4           0        ナイト   6000  "
      ]
     },
     "execution_count": 98,
     "metadata": {},
     "output_type": "execute_result"
    }
   ],
   "source": [
    "customer_join = pd.merge(customer, class_master, on=\"class\", how=\"left\")\n",
    "customer_join.head()"
   ]
  },
  {
   "cell_type": "code",
   "execution_count": 99,
   "metadata": {},
   "outputs": [
    {
     "data": {
      "text/html": [
       "<div>\n",
       "<style scoped>\n",
       "    .dataframe tbody tr th:only-of-type {\n",
       "        vertical-align: middle;\n",
       "    }\n",
       "\n",
       "    .dataframe tbody tr th {\n",
       "        vertical-align: top;\n",
       "    }\n",
       "\n",
       "    .dataframe thead th {\n",
       "        text-align: right;\n",
       "    }\n",
       "</style>\n",
       "<table border=\"1\" class=\"dataframe\">\n",
       "  <thead>\n",
       "    <tr style=\"text-align: right;\">\n",
       "      <th></th>\n",
       "      <th>customer_id</th>\n",
       "      <th>name</th>\n",
       "      <th>class</th>\n",
       "      <th>gender</th>\n",
       "      <th>start_date</th>\n",
       "      <th>end_date</th>\n",
       "      <th>campaign_id</th>\n",
       "      <th>is_deleted</th>\n",
       "      <th>class_name</th>\n",
       "      <th>price</th>\n",
       "      <th>campaign_name</th>\n",
       "    </tr>\n",
       "  </thead>\n",
       "  <tbody>\n",
       "    <tr>\n",
       "      <th>0</th>\n",
       "      <td>OA832399</td>\n",
       "      <td>XXXX</td>\n",
       "      <td>C01</td>\n",
       "      <td>F</td>\n",
       "      <td>2015-05-01 00:00:00</td>\n",
       "      <td>NaN</td>\n",
       "      <td>CA1</td>\n",
       "      <td>0</td>\n",
       "      <td>オールタイム</td>\n",
       "      <td>10500</td>\n",
       "      <td>通常</td>\n",
       "    </tr>\n",
       "    <tr>\n",
       "      <th>1</th>\n",
       "      <td>PL270116</td>\n",
       "      <td>XXXXX</td>\n",
       "      <td>C01</td>\n",
       "      <td>M</td>\n",
       "      <td>2015-05-01 00:00:00</td>\n",
       "      <td>NaN</td>\n",
       "      <td>CA1</td>\n",
       "      <td>0</td>\n",
       "      <td>オールタイム</td>\n",
       "      <td>10500</td>\n",
       "      <td>通常</td>\n",
       "    </tr>\n",
       "    <tr>\n",
       "      <th>2</th>\n",
       "      <td>OA974876</td>\n",
       "      <td>XXXXX</td>\n",
       "      <td>C01</td>\n",
       "      <td>M</td>\n",
       "      <td>2015-05-01 00:00:00</td>\n",
       "      <td>NaN</td>\n",
       "      <td>CA1</td>\n",
       "      <td>0</td>\n",
       "      <td>オールタイム</td>\n",
       "      <td>10500</td>\n",
       "      <td>通常</td>\n",
       "    </tr>\n",
       "    <tr>\n",
       "      <th>3</th>\n",
       "      <td>HD024127</td>\n",
       "      <td>XXXXX</td>\n",
       "      <td>C01</td>\n",
       "      <td>F</td>\n",
       "      <td>2015-05-01 00:00:00</td>\n",
       "      <td>NaN</td>\n",
       "      <td>CA1</td>\n",
       "      <td>0</td>\n",
       "      <td>オールタイム</td>\n",
       "      <td>10500</td>\n",
       "      <td>通常</td>\n",
       "    </tr>\n",
       "    <tr>\n",
       "      <th>4</th>\n",
       "      <td>HD661448</td>\n",
       "      <td>XXXXX</td>\n",
       "      <td>C03</td>\n",
       "      <td>F</td>\n",
       "      <td>2015-05-01 00:00:00</td>\n",
       "      <td>NaN</td>\n",
       "      <td>CA1</td>\n",
       "      <td>0</td>\n",
       "      <td>ナイト</td>\n",
       "      <td>6000</td>\n",
       "      <td>通常</td>\n",
       "    </tr>\n",
       "  </tbody>\n",
       "</table>\n",
       "</div>"
      ],
      "text/plain": [
       "  customer_id   name class gender           start_date end_date campaign_id  \\\n",
       "0    OA832399   XXXX   C01      F  2015-05-01 00:00:00      NaN         CA1   \n",
       "1    PL270116  XXXXX   C01      M  2015-05-01 00:00:00      NaN         CA1   \n",
       "2    OA974876  XXXXX   C01      M  2015-05-01 00:00:00      NaN         CA1   \n",
       "3    HD024127  XXXXX   C01      F  2015-05-01 00:00:00      NaN         CA1   \n",
       "4    HD661448  XXXXX   C03      F  2015-05-01 00:00:00      NaN         CA1   \n",
       "\n",
       "   is_deleted class_name  price campaign_name  \n",
       "0           0     オールタイム  10500            通常  \n",
       "1           0     オールタイム  10500            通常  \n",
       "2           0     オールタイム  10500            通常  \n",
       "3           0     オールタイム  10500            通常  \n",
       "4           0        ナイト   6000            通常  "
      ]
     },
     "execution_count": 99,
     "metadata": {},
     "output_type": "execute_result"
    }
   ],
   "source": [
    "customer_join = pd.merge(customer_join, campaign_master, on=\"campaign_id\", how=\"left\")\n",
    "customer_join.head()"
   ]
  },
  {
   "cell_type": "markdown",
   "metadata": {},
   "source": [
    "### 結合前・後での顧客数に変化がないことを、len()を使って検証する"
   ]
  },
  {
   "cell_type": "code",
   "execution_count": 100,
   "metadata": {},
   "outputs": [
    {
     "name": "stdout",
     "output_type": "stream",
     "text": [
      "4192\n",
      "4192\n"
     ]
    }
   ],
   "source": [
    "print(len(customer))\n",
    "print(len(customer_join))"
   ]
  },
  {
   "cell_type": "markdown",
   "metadata": {},
   "source": [
    "### 欠損値有無の検証\n",
    "joinの際にキーが見つからない/上手くjoinできない場合に欠損値が自動で入れられる。<br>\n",
    "ここでisnull()を使って欠損値の有無を確認する"
   ]
  },
  {
   "cell_type": "code",
   "execution_count": 101,
   "metadata": {},
   "outputs": [
    {
     "data": {
      "text/plain": [
       "customer_id         0\n",
       "name                0\n",
       "class               0\n",
       "gender              0\n",
       "start_date          0\n",
       "end_date         2842\n",
       "campaign_id         0\n",
       "is_deleted          0\n",
       "class_name          0\n",
       "price               0\n",
       "campaign_name       0\n",
       "dtype: int64"
      ]
     },
     "execution_count": 101,
     "metadata": {},
     "output_type": "execute_result"
    }
   ],
   "source": [
    "customer_join.isnull().sum()"
   ]
  },
  {
   "cell_type": "markdown",
   "metadata": {},
   "source": [
    "欠損値確認の結果から、end_dateのみに欠損値が見られ、<br>\n",
    "class, name, price, campaign_idなどには影響がなかったことが分かる。<br>\n",
    "つまり、joinは成功したと言える。"
   ]
  },
  {
   "cell_type": "markdown",
   "metadata": {},
   "source": [
    "# ノック23：顧客データの基礎集計をする\n",
    "集計する項目を検討する。例えば、<br>\n",
    "* どの会員区分、キャンペーン区分が多いか？\n",
    "* いつ入会・退会が多いのか？\n",
    "* 男女比率は？\n",
    "* 退会するまでの期間は？\n",
    "<br>\n",
    "ここでは、会員区分、キャンペーン区分、性別、退会済みかの集計していく。"
   ]
  },
  {
   "cell_type": "code",
   "execution_count": 102,
   "metadata": {},
   "outputs": [
    {
     "data": {
      "text/plain": [
       "class_name\n",
       "オールタイム    2045\n",
       "デイタイム     1019\n",
       "ナイト       1128\n",
       "Name: customer_id, dtype: int64"
      ]
     },
     "execution_count": 102,
     "metadata": {},
     "output_type": "execute_result"
    }
   ],
   "source": [
    "customer_join.groupby(\"class_name\").count()[\"customer_id\"]"
   ]
  },
  {
   "cell_type": "code",
   "execution_count": 103,
   "metadata": {},
   "outputs": [
    {
     "data": {
      "text/plain": [
       "campaign_name\n",
       "入会費半額     650\n",
       "入会費無料     492\n",
       "通常       3050\n",
       "Name: customer_id, dtype: int64"
      ]
     },
     "execution_count": 103,
     "metadata": {},
     "output_type": "execute_result"
    }
   ],
   "source": [
    "customer_join.groupby(\"campaign_name\").count()[\"customer_id\"]"
   ]
  },
  {
   "cell_type": "code",
   "execution_count": 104,
   "metadata": {},
   "outputs": [
    {
     "data": {
      "text/plain": [
       "gender\n",
       "F    1983\n",
       "M    2209\n",
       "Name: customer_id, dtype: int64"
      ]
     },
     "execution_count": 104,
     "metadata": {},
     "output_type": "execute_result"
    }
   ],
   "source": [
    "customer_join.groupby(\"gender\").count()[\"customer_id\"]"
   ]
  },
  {
   "cell_type": "markdown",
   "metadata": {},
   "source": [
    "女性は1983名、男性は2209名であることが分かる。"
   ]
  },
  {
   "cell_type": "code",
   "execution_count": 105,
   "metadata": {},
   "outputs": [
    {
     "data": {
      "text/plain": [
       "is_deleted\n",
       "0    2842\n",
       "1    1350\n",
       "Name: customer_id, dtype: int64"
      ]
     },
     "execution_count": 105,
     "metadata": {},
     "output_type": "execute_result"
    }
   ],
   "source": [
    "customer_join.groupby(\"is_deleted\").count()[\"customer_id\"]"
   ]
  },
  {
   "cell_type": "markdown",
   "metadata": {},
   "source": [
    "退会している人は1350名いることが分かる。<br>\n",
    "つぎに入会人数を集計する"
   ]
  },
  {
   "cell_type": "code",
   "execution_count": 106,
   "metadata": {},
   "outputs": [
    {
     "name": "stdout",
     "output_type": "stream",
     "text": [
      "customer_id      object\n",
      "name             object\n",
      "class            object\n",
      "gender           object\n",
      "start_date       object\n",
      "end_date         object\n",
      "campaign_id      object\n",
      "is_deleted        int64\n",
      "class_name       object\n",
      "price             int64\n",
      "campaign_name    object\n",
      "dtype: object\n"
     ]
    }
   ],
   "source": [
    "print(customer_join.dtypes)"
   ]
  },
  {
   "cell_type": "code",
   "execution_count": 107,
   "metadata": {},
   "outputs": [],
   "source": [
    "customer_join[\"start_date\"] = pd.to_datetime(customer_join[\"start_date\"])"
   ]
  },
  {
   "cell_type": "code",
   "execution_count": 108,
   "metadata": {},
   "outputs": [
    {
     "name": "stdout",
     "output_type": "stream",
     "text": [
      "datetime64[ns]\n"
     ]
    }
   ],
   "source": [
    "print(customer_join[\"start_date\"].dtypes)"
   ]
  },
  {
   "cell_type": "code",
   "execution_count": 109,
   "metadata": {},
   "outputs": [
    {
     "name": "stdout",
     "output_type": "stream",
     "text": [
      "1361\n"
     ]
    }
   ],
   "source": [
    "customer_start = customer_join.loc[customer_join[\"start_date\"] > pd.to_datetime(\"20180401\")]\n",
    "print(len(customer_start))"
   ]
  },
  {
   "cell_type": "markdown",
   "metadata": {},
   "source": [
    "2018年4月1日以降の顧客数は1361名だったことが分かる。<br>\n",
    "# ノック24：最新顧客データの基礎集計\n",
    "最新月の顧客データを集計することで現状の顧客状況を把握することができる。<br>\n",
    "ここでは最新月で在籍していたユーザデータ\"customer_newer\"を作って集計する"
   ]
  },
  {
   "cell_type": "code",
   "execution_count": 110,
   "metadata": {},
   "outputs": [
    {
     "name": "stdout",
     "output_type": "stream",
     "text": [
      "object\n",
      "datetime64[ns]\n"
     ]
    }
   ],
   "source": [
    "print(customer_join[\"end_date\"].dtypes)\n",
    "customer_join[\"end_date\"] = pd.to_datetime(customer_join[\"end_date\"])\n",
    "print(customer_join[\"end_date\"].dtypes)"
   ]
  },
  {
   "cell_type": "code",
   "execution_count": 111,
   "metadata": {},
   "outputs": [
    {
     "name": "stdout",
     "output_type": "stream",
     "text": [
      "2953\n"
     ]
    },
    {
     "data": {
      "text/plain": [
       "array([                          'NaT', '2019-03-31T00:00:00.000000000'],\n",
       "      dtype='datetime64[ns]')"
      ]
     },
     "execution_count": 111,
     "metadata": {},
     "output_type": "execute_result"
    }
   ],
   "source": [
    "customer_newer = customer_join.loc[(customer_join[\"end_date\"] >= pd.to_datetime(\"20190331\")) | (customer_join[\"end_date\"].isna())]\n",
    "print(len(customer_newer))\n",
    "customer_newer[\"end_date\"].unique()"
   ]
  },
  {
   "cell_type": "markdown",
   "metadata": {},
   "source": [
    "出力されたデータ件数は2953名だった。<br>\n",
    "また、end_dateのユニーク値は\"NaT\"と2019-03-31であることが分かる。<br>\n",
    "NaTはdatetime型の欠損値なので、これに該当するユーザは退会していないことが分かる。<br>\n",
    "<br>\n",
    "## もともとのデータと、最新月データの差分を比較してみる\n",
    "### ～クラス区分"
   ]
  },
  {
   "cell_type": "code",
   "execution_count": 112,
   "metadata": {},
   "outputs": [
    {
     "data": {
      "text/plain": [
       "class_name\n",
       "オールタイム    2045\n",
       "デイタイム     1019\n",
       "ナイト       1128\n",
       "Name: customer_id, dtype: int64"
      ]
     },
     "execution_count": 112,
     "metadata": {},
     "output_type": "execute_result"
    }
   ],
   "source": [
    "customer_join.groupby(\"class_name\").count()[\"customer_id\"]"
   ]
  },
  {
   "cell_type": "code",
   "execution_count": 113,
   "metadata": {},
   "outputs": [
    {
     "data": {
      "text/plain": [
       "class_name\n",
       "オールタイム    1444\n",
       "デイタイム      696\n",
       "ナイト        813\n",
       "Name: customer_id, dtype: int64"
      ]
     },
     "execution_count": 113,
     "metadata": {},
     "output_type": "execute_result"
    }
   ],
   "source": [
    "customer_newer.groupby(\"class_name\").count()[\"customer_id\"]"
   ]
  },
  {
   "cell_type": "markdown",
   "metadata": {},
   "source": [
    "## ～キャンペーン区分"
   ]
  },
  {
   "cell_type": "code",
   "execution_count": 114,
   "metadata": {},
   "outputs": [
    {
     "data": {
      "text/plain": [
       "campaign_name\n",
       "入会費半額     650\n",
       "入会費無料     492\n",
       "通常       3050\n",
       "Name: customer_id, dtype: int64"
      ]
     },
     "execution_count": 114,
     "metadata": {},
     "output_type": "execute_result"
    }
   ],
   "source": [
    "customer_join.groupby(\"campaign_name\").count()[\"customer_id\"]"
   ]
  },
  {
   "cell_type": "code",
   "execution_count": 115,
   "metadata": {},
   "outputs": [
    {
     "data": {
      "text/plain": [
       "campaign_name\n",
       "入会費半額     311\n",
       "入会費無料     242\n",
       "通常       2400\n",
       "Name: customer_id, dtype: int64"
      ]
     },
     "execution_count": 115,
     "metadata": {},
     "output_type": "execute_result"
    }
   ],
   "source": [
    "customer_newer.groupby(\"campaign_name\").count()[\"customer_id\"]"
   ]
  },
  {
   "cell_type": "markdown",
   "metadata": {},
   "source": [
    "## ～性別"
   ]
  },
  {
   "cell_type": "code",
   "execution_count": 116,
   "metadata": {},
   "outputs": [
    {
     "data": {
      "text/plain": [
       "gender\n",
       "F    1983\n",
       "M    2209\n",
       "Name: customer_id, dtype: int64"
      ]
     },
     "execution_count": 116,
     "metadata": {},
     "output_type": "execute_result"
    }
   ],
   "source": [
    "customer_join.groupby(\"gender\").count()[\"customer_id\"]"
   ]
  },
  {
   "cell_type": "code",
   "execution_count": 117,
   "metadata": {},
   "outputs": [
    {
     "data": {
      "text/plain": [
       "gender\n",
       "F    1400\n",
       "M    1553\n",
       "Name: customer_id, dtype: int64"
      ]
     },
     "execution_count": 117,
     "metadata": {},
     "output_type": "execute_result"
    }
   ],
   "source": [
    "customer_newer.groupby(\"gender\").count()[\"customer_id\"]"
   ]
  },
  {
   "cell_type": "markdown",
   "metadata": {},
   "source": [
    "# ノック25：利用履歴データを集計する\n",
    "顧客ごとの月利用回数を集計したデータを作成"
   ]
  },
  {
   "cell_type": "code",
   "execution_count": 118,
   "metadata": {},
   "outputs": [
    {
     "name": "stdout",
     "output_type": "stream",
     "text": [
      "object\n",
      "datetime64[ns]\n"
     ]
    }
   ],
   "source": [
    "print(uselog[\"usedate\"].dtypes)\n",
    "uselog[\"usedate\"] = pd.to_datetime(uselog[\"usedate\"])\n",
    "print(uselog[\"usedate\"].dtypes)"
   ]
  },
  {
   "cell_type": "code",
   "execution_count": 119,
   "metadata": {},
   "outputs": [],
   "source": [
    "uselog[\"年月\"] = uselog[\"usedate\"].dt.strftime(\"%Y%m\")\n",
    "uselog_months = uselog.groupby([\"年月\", \"customer_id\"], as_index=False).count()\n",
    "uselog_months.rename(columns={\"log_id\":\"count\"}, inplace=True)"
   ]
  },
  {
   "cell_type": "markdown",
   "metadata": {},
   "source": [
    "グループラベル(\"年月\"、\"customer_id\")をインデックスラベルとして使いたくない場合は\"as_index=False\"とする"
   ]
  },
  {
   "cell_type": "code",
   "execution_count": 120,
   "metadata": {},
   "outputs": [
    {
     "data": {
      "text/html": [
       "<div>\n",
       "<style scoped>\n",
       "    .dataframe tbody tr th:only-of-type {\n",
       "        vertical-align: middle;\n",
       "    }\n",
       "\n",
       "    .dataframe tbody tr th {\n",
       "        vertical-align: top;\n",
       "    }\n",
       "\n",
       "    .dataframe thead th {\n",
       "        text-align: right;\n",
       "    }\n",
       "</style>\n",
       "<table border=\"1\" class=\"dataframe\">\n",
       "  <thead>\n",
       "    <tr style=\"text-align: right;\">\n",
       "      <th></th>\n",
       "      <th>年月</th>\n",
       "      <th>customer_id</th>\n",
       "      <th>count</th>\n",
       "      <th>usedate</th>\n",
       "    </tr>\n",
       "  </thead>\n",
       "  <tbody>\n",
       "    <tr>\n",
       "      <th>0</th>\n",
       "      <td>201804</td>\n",
       "      <td>AS002855</td>\n",
       "      <td>4</td>\n",
       "      <td>4</td>\n",
       "    </tr>\n",
       "    <tr>\n",
       "      <th>1</th>\n",
       "      <td>201804</td>\n",
       "      <td>AS009013</td>\n",
       "      <td>2</td>\n",
       "      <td>2</td>\n",
       "    </tr>\n",
       "    <tr>\n",
       "      <th>2</th>\n",
       "      <td>201804</td>\n",
       "      <td>AS009373</td>\n",
       "      <td>3</td>\n",
       "      <td>3</td>\n",
       "    </tr>\n",
       "  </tbody>\n",
       "</table>\n",
       "</div>"
      ],
      "text/plain": [
       "       年月 customer_id  count  usedate\n",
       "0  201804    AS002855      4        4\n",
       "1  201804    AS009013      2        2\n",
       "2  201804    AS009373      3        3"
      ]
     },
     "execution_count": 120,
     "metadata": {},
     "output_type": "execute_result"
    }
   ],
   "source": [
    "uselog_months.head(3)"
   ]
  },
  {
   "cell_type": "code",
   "execution_count": 121,
   "metadata": {},
   "outputs": [],
   "source": [
    "del uselog_months[\"usedate\"]"
   ]
  },
  {
   "cell_type": "code",
   "execution_count": 122,
   "metadata": {},
   "outputs": [
    {
     "data": {
      "text/html": [
       "<div>\n",
       "<style scoped>\n",
       "    .dataframe tbody tr th:only-of-type {\n",
       "        vertical-align: middle;\n",
       "    }\n",
       "\n",
       "    .dataframe tbody tr th {\n",
       "        vertical-align: top;\n",
       "    }\n",
       "\n",
       "    .dataframe thead th {\n",
       "        text-align: right;\n",
       "    }\n",
       "</style>\n",
       "<table border=\"1\" class=\"dataframe\">\n",
       "  <thead>\n",
       "    <tr style=\"text-align: right;\">\n",
       "      <th></th>\n",
       "      <th>年月</th>\n",
       "      <th>customer_id</th>\n",
       "      <th>count</th>\n",
       "    </tr>\n",
       "  </thead>\n",
       "  <tbody>\n",
       "    <tr>\n",
       "      <th>0</th>\n",
       "      <td>201804</td>\n",
       "      <td>AS002855</td>\n",
       "      <td>4</td>\n",
       "    </tr>\n",
       "    <tr>\n",
       "      <th>1</th>\n",
       "      <td>201804</td>\n",
       "      <td>AS009013</td>\n",
       "      <td>2</td>\n",
       "    </tr>\n",
       "    <tr>\n",
       "      <th>2</th>\n",
       "      <td>201804</td>\n",
       "      <td>AS009373</td>\n",
       "      <td>3</td>\n",
       "    </tr>\n",
       "  </tbody>\n",
       "</table>\n",
       "</div>"
      ],
      "text/plain": [
       "       年月 customer_id  count\n",
       "0  201804    AS002855      4\n",
       "1  201804    AS009013      2\n",
       "2  201804    AS009373      3"
      ]
     },
     "execution_count": 122,
     "metadata": {},
     "output_type": "execute_result"
    }
   ],
   "source": [
    "uselog_months.head(3)"
   ]
  },
  {
   "cell_type": "markdown",
   "metadata": {},
   "source": [
    "### 顧客毎の月内利用回数の集計"
   ]
  },
  {
   "cell_type": "code",
   "execution_count": 123,
   "metadata": {},
   "outputs": [
    {
     "data": {
      "text/html": [
       "<div>\n",
       "<style scoped>\n",
       "    .dataframe tbody tr th:only-of-type {\n",
       "        vertical-align: middle;\n",
       "    }\n",
       "\n",
       "    .dataframe tbody tr th {\n",
       "        vertical-align: top;\n",
       "    }\n",
       "\n",
       "    .dataframe thead th {\n",
       "        text-align: right;\n",
       "    }\n",
       "</style>\n",
       "<table border=\"1\" class=\"dataframe\">\n",
       "  <thead>\n",
       "    <tr style=\"text-align: right;\">\n",
       "      <th></th>\n",
       "      <th>mean</th>\n",
       "      <th>median</th>\n",
       "      <th>max</th>\n",
       "      <th>min</th>\n",
       "    </tr>\n",
       "    <tr>\n",
       "      <th>customer_id</th>\n",
       "      <th></th>\n",
       "      <th></th>\n",
       "      <th></th>\n",
       "      <th></th>\n",
       "    </tr>\n",
       "  </thead>\n",
       "  <tbody>\n",
       "    <tr>\n",
       "      <th>AS002855</th>\n",
       "      <td>4.5</td>\n",
       "      <td>5.0</td>\n",
       "      <td>7</td>\n",
       "      <td>2</td>\n",
       "    </tr>\n",
       "    <tr>\n",
       "      <th>AS008805</th>\n",
       "      <td>4.0</td>\n",
       "      <td>4.0</td>\n",
       "      <td>8</td>\n",
       "      <td>1</td>\n",
       "    </tr>\n",
       "    <tr>\n",
       "      <th>AS009013</th>\n",
       "      <td>2.0</td>\n",
       "      <td>2.0</td>\n",
       "      <td>2</td>\n",
       "      <td>2</td>\n",
       "    </tr>\n",
       "  </tbody>\n",
       "</table>\n",
       "</div>"
      ],
      "text/plain": [
       "             mean  median  max  min\n",
       "customer_id                        \n",
       "AS002855      4.5     5.0    7    2\n",
       "AS008805      4.0     4.0    8    1\n",
       "AS009013      2.0     2.0    2    2"
      ]
     },
     "execution_count": 123,
     "metadata": {},
     "output_type": "execute_result"
    }
   ],
   "source": [
    "uselog_customer = uselog_months.groupby(\"customer_id\").agg([\"mean\", \"median\", \"max\", \"min\"])[\"count\"]\n",
    "uselog_customer.head(3)"
   ]
  },
  {
   "cell_type": "code",
   "execution_count": 124,
   "metadata": {},
   "outputs": [
    {
     "data": {
      "text/html": [
       "<div>\n",
       "<style scoped>\n",
       "    .dataframe tbody tr th:only-of-type {\n",
       "        vertical-align: middle;\n",
       "    }\n",
       "\n",
       "    .dataframe tbody tr th {\n",
       "        vertical-align: top;\n",
       "    }\n",
       "\n",
       "    .dataframe thead th {\n",
       "        text-align: right;\n",
       "    }\n",
       "</style>\n",
       "<table border=\"1\" class=\"dataframe\">\n",
       "  <thead>\n",
       "    <tr style=\"text-align: right;\">\n",
       "      <th></th>\n",
       "      <th>customer_id</th>\n",
       "      <th>mean</th>\n",
       "      <th>median</th>\n",
       "      <th>max</th>\n",
       "      <th>min</th>\n",
       "    </tr>\n",
       "  </thead>\n",
       "  <tbody>\n",
       "    <tr>\n",
       "      <th>0</th>\n",
       "      <td>AS002855</td>\n",
       "      <td>4.500000</td>\n",
       "      <td>5.0</td>\n",
       "      <td>7</td>\n",
       "      <td>2</td>\n",
       "    </tr>\n",
       "    <tr>\n",
       "      <th>1</th>\n",
       "      <td>AS008805</td>\n",
       "      <td>4.000000</td>\n",
       "      <td>4.0</td>\n",
       "      <td>8</td>\n",
       "      <td>1</td>\n",
       "    </tr>\n",
       "    <tr>\n",
       "      <th>2</th>\n",
       "      <td>AS009013</td>\n",
       "      <td>2.000000</td>\n",
       "      <td>2.0</td>\n",
       "      <td>2</td>\n",
       "      <td>2</td>\n",
       "    </tr>\n",
       "    <tr>\n",
       "      <th>3</th>\n",
       "      <td>AS009373</td>\n",
       "      <td>5.083333</td>\n",
       "      <td>5.0</td>\n",
       "      <td>7</td>\n",
       "      <td>3</td>\n",
       "    </tr>\n",
       "    <tr>\n",
       "      <th>4</th>\n",
       "      <td>AS015233</td>\n",
       "      <td>7.545455</td>\n",
       "      <td>7.0</td>\n",
       "      <td>11</td>\n",
       "      <td>4</td>\n",
       "    </tr>\n",
       "  </tbody>\n",
       "</table>\n",
       "</div>"
      ],
      "text/plain": [
       "  customer_id      mean  median  max  min\n",
       "0    AS002855  4.500000     5.0    7    2\n",
       "1    AS008805  4.000000     4.0    8    1\n",
       "2    AS009013  2.000000     2.0    2    2\n",
       "3    AS009373  5.083333     5.0    7    3\n",
       "4    AS015233  7.545455     7.0   11    4"
      ]
     },
     "execution_count": 124,
     "metadata": {},
     "output_type": "execute_result"
    }
   ],
   "source": [
    "uselog_customer = uselog_customer.reset_index(drop=False)\n",
    "uselog_customer.head()"
   ]
  },
  {
   "cell_type": "markdown",
   "metadata": {},
   "source": [
    "# ノック26：利用履歴データから定期利用フラグを作成\n",
    "ジムの場合、習慣化が継続利用の重要なファクター。<br>\n",
    "ここでは定期的に利用するユーザを特定してみる。\n",
    "まず、\"usedate\"から各データの曜日を算出して、列として追加する。"
   ]
  },
  {
   "cell_type": "code",
   "execution_count": 125,
   "metadata": {},
   "outputs": [
    {
     "data": {
      "text/html": [
       "<div>\n",
       "<style scoped>\n",
       "    .dataframe tbody tr th:only-of-type {\n",
       "        vertical-align: middle;\n",
       "    }\n",
       "\n",
       "    .dataframe tbody tr th {\n",
       "        vertical-align: top;\n",
       "    }\n",
       "\n",
       "    .dataframe thead th {\n",
       "        text-align: right;\n",
       "    }\n",
       "</style>\n",
       "<table border=\"1\" class=\"dataframe\">\n",
       "  <thead>\n",
       "    <tr style=\"text-align: right;\">\n",
       "      <th></th>\n",
       "      <th>log_id</th>\n",
       "      <th>customer_id</th>\n",
       "      <th>usedate</th>\n",
       "      <th>年月</th>\n",
       "      <th>weekday</th>\n",
       "    </tr>\n",
       "  </thead>\n",
       "  <tbody>\n",
       "    <tr>\n",
       "      <th>0</th>\n",
       "      <td>L00000049012330</td>\n",
       "      <td>AS009373</td>\n",
       "      <td>2018-04-01</td>\n",
       "      <td>201804</td>\n",
       "      <td>6</td>\n",
       "    </tr>\n",
       "    <tr>\n",
       "      <th>1</th>\n",
       "      <td>L00000049012331</td>\n",
       "      <td>AS015315</td>\n",
       "      <td>2018-04-01</td>\n",
       "      <td>201804</td>\n",
       "      <td>6</td>\n",
       "    </tr>\n",
       "    <tr>\n",
       "      <th>2</th>\n",
       "      <td>L00000049012332</td>\n",
       "      <td>AS040841</td>\n",
       "      <td>2018-04-01</td>\n",
       "      <td>201804</td>\n",
       "      <td>6</td>\n",
       "    </tr>\n",
       "    <tr>\n",
       "      <th>3</th>\n",
       "      <td>L00000049012333</td>\n",
       "      <td>AS046594</td>\n",
       "      <td>2018-04-01</td>\n",
       "      <td>201804</td>\n",
       "      <td>6</td>\n",
       "    </tr>\n",
       "    <tr>\n",
       "      <th>4</th>\n",
       "      <td>L00000049012334</td>\n",
       "      <td>AS073285</td>\n",
       "      <td>2018-04-01</td>\n",
       "      <td>201804</td>\n",
       "      <td>6</td>\n",
       "    </tr>\n",
       "  </tbody>\n",
       "</table>\n",
       "</div>"
      ],
      "text/plain": [
       "            log_id customer_id    usedate      年月  weekday\n",
       "0  L00000049012330    AS009373 2018-04-01  201804        6\n",
       "1  L00000049012331    AS015315 2018-04-01  201804        6\n",
       "2  L00000049012332    AS040841 2018-04-01  201804        6\n",
       "3  L00000049012333    AS046594 2018-04-01  201804        6\n",
       "4  L00000049012334    AS073285 2018-04-01  201804        6"
      ]
     },
     "execution_count": 125,
     "metadata": {},
     "output_type": "execute_result"
    }
   ],
   "source": [
    "uselog[\"weekday\"] = uselog[\"usedate\"].dt.weekday\n",
    "uselog.head()"
   ]
  },
  {
   "cell_type": "markdown",
   "metadata": {},
   "source": [
    "毎月、曜日ごとに通っている回数を求める、「顧客―年月―曜日」の組み合わせでLogidをカウントすることで算出できる。\n"
   ]
  },
  {
   "cell_type": "code",
   "execution_count": 126,
   "metadata": {},
   "outputs": [
    {
     "data": {
      "text/html": [
       "<div>\n",
       "<style scoped>\n",
       "    .dataframe tbody tr th:only-of-type {\n",
       "        vertical-align: middle;\n",
       "    }\n",
       "\n",
       "    .dataframe tbody tr th {\n",
       "        vertical-align: top;\n",
       "    }\n",
       "\n",
       "    .dataframe thead th {\n",
       "        text-align: right;\n",
       "    }\n",
       "</style>\n",
       "<table border=\"1\" class=\"dataframe\">\n",
       "  <thead>\n",
       "    <tr style=\"text-align: right;\">\n",
       "      <th></th>\n",
       "      <th>customer_id</th>\n",
       "      <th>年月</th>\n",
       "      <th>weekday</th>\n",
       "      <th>log_id</th>\n",
       "    </tr>\n",
       "  </thead>\n",
       "  <tbody>\n",
       "    <tr>\n",
       "      <th>0</th>\n",
       "      <td>AS002855</td>\n",
       "      <td>201804</td>\n",
       "      <td>5</td>\n",
       "      <td>4</td>\n",
       "    </tr>\n",
       "    <tr>\n",
       "      <th>1</th>\n",
       "      <td>AS002855</td>\n",
       "      <td>201805</td>\n",
       "      <td>2</td>\n",
       "      <td>1</td>\n",
       "    </tr>\n",
       "    <tr>\n",
       "      <th>2</th>\n",
       "      <td>AS002855</td>\n",
       "      <td>201805</td>\n",
       "      <td>5</td>\n",
       "      <td>4</td>\n",
       "    </tr>\n",
       "    <tr>\n",
       "      <th>3</th>\n",
       "      <td>AS002855</td>\n",
       "      <td>201806</td>\n",
       "      <td>5</td>\n",
       "      <td>5</td>\n",
       "    </tr>\n",
       "    <tr>\n",
       "      <th>4</th>\n",
       "      <td>AS002855</td>\n",
       "      <td>201807</td>\n",
       "      <td>1</td>\n",
       "      <td>1</td>\n",
       "    </tr>\n",
       "  </tbody>\n",
       "</table>\n",
       "</div>"
      ],
      "text/plain": [
       "  customer_id      年月  weekday  log_id\n",
       "0    AS002855  201804        5       4\n",
       "1    AS002855  201805        2       1\n",
       "2    AS002855  201805        5       4\n",
       "3    AS002855  201806        5       5\n",
       "4    AS002855  201807        1       1"
      ]
     },
     "execution_count": 126,
     "metadata": {},
     "output_type": "execute_result"
    }
   ],
   "source": [
    "uselog_weekday = uselog.groupby([\"customer_id\", \"年月\", \"weekday\"], as_index= False).count()[[\"customer_id\", \"年月\", \"weekday\", \"log_id\"]]\n",
    "uselog_weekday.head()"
   ]
  },
  {
   "cell_type": "code",
   "execution_count": 127,
   "metadata": {},
   "outputs": [
    {
     "data": {
      "text/html": [
       "<div>\n",
       "<style scoped>\n",
       "    .dataframe tbody tr th:only-of-type {\n",
       "        vertical-align: middle;\n",
       "    }\n",
       "\n",
       "    .dataframe tbody tr th {\n",
       "        vertical-align: top;\n",
       "    }\n",
       "\n",
       "    .dataframe thead th {\n",
       "        text-align: right;\n",
       "    }\n",
       "</style>\n",
       "<table border=\"1\" class=\"dataframe\">\n",
       "  <thead>\n",
       "    <tr style=\"text-align: right;\">\n",
       "      <th></th>\n",
       "      <th>customer_id</th>\n",
       "      <th>年月</th>\n",
       "      <th>weekday</th>\n",
       "      <th>count</th>\n",
       "    </tr>\n",
       "  </thead>\n",
       "  <tbody>\n",
       "    <tr>\n",
       "      <th>0</th>\n",
       "      <td>AS002855</td>\n",
       "      <td>201804</td>\n",
       "      <td>5</td>\n",
       "      <td>4</td>\n",
       "    </tr>\n",
       "    <tr>\n",
       "      <th>1</th>\n",
       "      <td>AS002855</td>\n",
       "      <td>201805</td>\n",
       "      <td>2</td>\n",
       "      <td>1</td>\n",
       "    </tr>\n",
       "    <tr>\n",
       "      <th>2</th>\n",
       "      <td>AS002855</td>\n",
       "      <td>201805</td>\n",
       "      <td>5</td>\n",
       "      <td>4</td>\n",
       "    </tr>\n",
       "    <tr>\n",
       "      <th>3</th>\n",
       "      <td>AS002855</td>\n",
       "      <td>201806</td>\n",
       "      <td>5</td>\n",
       "      <td>5</td>\n",
       "    </tr>\n",
       "    <tr>\n",
       "      <th>4</th>\n",
       "      <td>AS002855</td>\n",
       "      <td>201807</td>\n",
       "      <td>1</td>\n",
       "      <td>1</td>\n",
       "    </tr>\n",
       "  </tbody>\n",
       "</table>\n",
       "</div>"
      ],
      "text/plain": [
       "  customer_id      年月  weekday  count\n",
       "0    AS002855  201804        5      4\n",
       "1    AS002855  201805        2      1\n",
       "2    AS002855  201805        5      4\n",
       "3    AS002855  201806        5      5\n",
       "4    AS002855  201807        1      1"
      ]
     },
     "execution_count": 127,
     "metadata": {},
     "output_type": "execute_result"
    }
   ],
   "source": [
    "uselog_weekday.rename(columns={\"log_id\":\"count\"}, inplace=True)\n",
    "uselog_weekday.head()"
   ]
  },
  {
   "cell_type": "markdown",
   "metadata": {},
   "source": [
    "顧客\"AS002855\"は4月の金曜日(5)に通った回数は4回だということが分かる。<br>\n",
    "\n",
    "datetimeから曜日を取得、weekdayと曜日の対応<br>\n",
    "    0: 月, 1: 火, 2: 水, 3: 木, 4: 金, 5: 土, 6: 日<br>\n",
    "### 顧客毎の各月の最大値を取得し、最大値が4以上の場合にフラグを付けてみる\n"
   ]
  },
  {
   "cell_type": "code",
   "execution_count": 128,
   "metadata": {},
   "outputs": [
    {
     "data": {
      "text/html": [
       "<div>\n",
       "<style scoped>\n",
       "    .dataframe tbody tr th:only-of-type {\n",
       "        vertical-align: middle;\n",
       "    }\n",
       "\n",
       "    .dataframe tbody tr th {\n",
       "        vertical-align: top;\n",
       "    }\n",
       "\n",
       "    .dataframe thead th {\n",
       "        text-align: right;\n",
       "    }\n",
       "</style>\n",
       "<table border=\"1\" class=\"dataframe\">\n",
       "  <thead>\n",
       "    <tr style=\"text-align: right;\">\n",
       "      <th></th>\n",
       "      <th>customer_id</th>\n",
       "      <th>count</th>\n",
       "      <th>routine_flag</th>\n",
       "    </tr>\n",
       "  </thead>\n",
       "  <tbody>\n",
       "    <tr>\n",
       "      <th>0</th>\n",
       "      <td>AS002855</td>\n",
       "      <td>5</td>\n",
       "      <td>0</td>\n",
       "    </tr>\n",
       "    <tr>\n",
       "      <th>1</th>\n",
       "      <td>AS008805</td>\n",
       "      <td>4</td>\n",
       "      <td>0</td>\n",
       "    </tr>\n",
       "    <tr>\n",
       "      <th>2</th>\n",
       "      <td>AS009013</td>\n",
       "      <td>2</td>\n",
       "      <td>0</td>\n",
       "    </tr>\n",
       "    <tr>\n",
       "      <th>3</th>\n",
       "      <td>AS009373</td>\n",
       "      <td>5</td>\n",
       "      <td>0</td>\n",
       "    </tr>\n",
       "    <tr>\n",
       "      <th>4</th>\n",
       "      <td>AS015233</td>\n",
       "      <td>5</td>\n",
       "      <td>0</td>\n",
       "    </tr>\n",
       "  </tbody>\n",
       "</table>\n",
       "</div>"
      ],
      "text/plain": [
       "  customer_id  count  routine_flag\n",
       "0    AS002855      5             0\n",
       "1    AS008805      4             0\n",
       "2    AS009013      2             0\n",
       "3    AS009373      5             0\n",
       "4    AS015233      5             0"
      ]
     },
     "execution_count": 128,
     "metadata": {},
     "output_type": "execute_result"
    }
   ],
   "source": [
    "uselog_weekday = uselog_weekday.groupby(\"customer_id\", as_index=False).max()[[\"customer_id\", \"count\"]]\n",
    "uselog_weekday[\"routine_flag\"] = 0\n",
    "uselog_weekday.head()"
   ]
  },
  {
   "cell_type": "code",
   "execution_count": 129,
   "metadata": {},
   "outputs": [
    {
     "data": {
      "text/html": [
       "<div>\n",
       "<style scoped>\n",
       "    .dataframe tbody tr th:only-of-type {\n",
       "        vertical-align: middle;\n",
       "    }\n",
       "\n",
       "    .dataframe tbody tr th {\n",
       "        vertical-align: top;\n",
       "    }\n",
       "\n",
       "    .dataframe thead th {\n",
       "        text-align: right;\n",
       "    }\n",
       "</style>\n",
       "<table border=\"1\" class=\"dataframe\">\n",
       "  <thead>\n",
       "    <tr style=\"text-align: right;\">\n",
       "      <th></th>\n",
       "      <th>customer_id</th>\n",
       "      <th>count</th>\n",
       "      <th>routine_flag</th>\n",
       "    </tr>\n",
       "  </thead>\n",
       "  <tbody>\n",
       "    <tr>\n",
       "      <th>0</th>\n",
       "      <td>AS002855</td>\n",
       "      <td>5</td>\n",
       "      <td>1</td>\n",
       "    </tr>\n",
       "    <tr>\n",
       "      <th>1</th>\n",
       "      <td>AS008805</td>\n",
       "      <td>4</td>\n",
       "      <td>1</td>\n",
       "    </tr>\n",
       "    <tr>\n",
       "      <th>2</th>\n",
       "      <td>AS009013</td>\n",
       "      <td>2</td>\n",
       "      <td>0</td>\n",
       "    </tr>\n",
       "    <tr>\n",
       "      <th>3</th>\n",
       "      <td>AS009373</td>\n",
       "      <td>5</td>\n",
       "      <td>1</td>\n",
       "    </tr>\n",
       "    <tr>\n",
       "      <th>4</th>\n",
       "      <td>AS015233</td>\n",
       "      <td>5</td>\n",
       "      <td>1</td>\n",
       "    </tr>\n",
       "  </tbody>\n",
       "</table>\n",
       "</div>"
      ],
      "text/plain": [
       "  customer_id  count  routine_flag\n",
       "0    AS002855      5             1\n",
       "1    AS008805      4             1\n",
       "2    AS009013      2             0\n",
       "3    AS009373      5             1\n",
       "4    AS015233      5             1"
      ]
     },
     "execution_count": 129,
     "metadata": {},
     "output_type": "execute_result"
    }
   ],
   "source": [
    "uselog_weekday[\"routine_flag\"] = uselog_weekday[\"routine_flag\"].where(uselog_weekday[\"count\"]<4, 1)\n",
    "uselog_weekday.head()"
   ]
  },
  {
   "cell_type": "markdown",
   "metadata": {},
   "source": [
    "# ノック27：顧客データと利用履歴データを結合\n",
    "ノック25と26で作成したデータuselog_customer, uselog_weekday, customer_joinを結合する"
   ]
  },
  {
   "cell_type": "code",
   "execution_count": 130,
   "metadata": {},
   "outputs": [
    {
     "data": {
      "text/html": [
       "<div>\n",
       "<style scoped>\n",
       "    .dataframe tbody tr th:only-of-type {\n",
       "        vertical-align: middle;\n",
       "    }\n",
       "\n",
       "    .dataframe tbody tr th {\n",
       "        vertical-align: top;\n",
       "    }\n",
       "\n",
       "    .dataframe thead th {\n",
       "        text-align: right;\n",
       "    }\n",
       "</style>\n",
       "<table border=\"1\" class=\"dataframe\">\n",
       "  <thead>\n",
       "    <tr style=\"text-align: right;\">\n",
       "      <th></th>\n",
       "      <th>customer_id</th>\n",
       "      <th>name</th>\n",
       "      <th>class</th>\n",
       "      <th>gender</th>\n",
       "      <th>start_date</th>\n",
       "      <th>end_date</th>\n",
       "      <th>campaign_id</th>\n",
       "      <th>is_deleted</th>\n",
       "      <th>class_name</th>\n",
       "      <th>price</th>\n",
       "      <th>campaign_name</th>\n",
       "      <th>mean</th>\n",
       "      <th>median</th>\n",
       "      <th>max</th>\n",
       "      <th>min</th>\n",
       "      <th>routine_flag</th>\n",
       "    </tr>\n",
       "  </thead>\n",
       "  <tbody>\n",
       "    <tr>\n",
       "      <th>0</th>\n",
       "      <td>OA832399</td>\n",
       "      <td>XXXX</td>\n",
       "      <td>C01</td>\n",
       "      <td>F</td>\n",
       "      <td>2015-05-01</td>\n",
       "      <td>NaT</td>\n",
       "      <td>CA1</td>\n",
       "      <td>0</td>\n",
       "      <td>オールタイム</td>\n",
       "      <td>10500</td>\n",
       "      <td>通常</td>\n",
       "      <td>4.833333</td>\n",
       "      <td>5.0</td>\n",
       "      <td>8</td>\n",
       "      <td>2</td>\n",
       "      <td>1</td>\n",
       "    </tr>\n",
       "    <tr>\n",
       "      <th>1</th>\n",
       "      <td>PL270116</td>\n",
       "      <td>XXXXX</td>\n",
       "      <td>C01</td>\n",
       "      <td>M</td>\n",
       "      <td>2015-05-01</td>\n",
       "      <td>NaT</td>\n",
       "      <td>CA1</td>\n",
       "      <td>0</td>\n",
       "      <td>オールタイム</td>\n",
       "      <td>10500</td>\n",
       "      <td>通常</td>\n",
       "      <td>5.083333</td>\n",
       "      <td>5.0</td>\n",
       "      <td>7</td>\n",
       "      <td>3</td>\n",
       "      <td>1</td>\n",
       "    </tr>\n",
       "    <tr>\n",
       "      <th>2</th>\n",
       "      <td>OA974876</td>\n",
       "      <td>XXXXX</td>\n",
       "      <td>C01</td>\n",
       "      <td>M</td>\n",
       "      <td>2015-05-01</td>\n",
       "      <td>NaT</td>\n",
       "      <td>CA1</td>\n",
       "      <td>0</td>\n",
       "      <td>オールタイム</td>\n",
       "      <td>10500</td>\n",
       "      <td>通常</td>\n",
       "      <td>4.583333</td>\n",
       "      <td>5.0</td>\n",
       "      <td>6</td>\n",
       "      <td>3</td>\n",
       "      <td>1</td>\n",
       "    </tr>\n",
       "    <tr>\n",
       "      <th>3</th>\n",
       "      <td>HD024127</td>\n",
       "      <td>XXXXX</td>\n",
       "      <td>C01</td>\n",
       "      <td>F</td>\n",
       "      <td>2015-05-01</td>\n",
       "      <td>NaT</td>\n",
       "      <td>CA1</td>\n",
       "      <td>0</td>\n",
       "      <td>オールタイム</td>\n",
       "      <td>10500</td>\n",
       "      <td>通常</td>\n",
       "      <td>4.833333</td>\n",
       "      <td>4.5</td>\n",
       "      <td>7</td>\n",
       "      <td>2</td>\n",
       "      <td>1</td>\n",
       "    </tr>\n",
       "    <tr>\n",
       "      <th>4</th>\n",
       "      <td>HD661448</td>\n",
       "      <td>XXXXX</td>\n",
       "      <td>C03</td>\n",
       "      <td>F</td>\n",
       "      <td>2015-05-01</td>\n",
       "      <td>NaT</td>\n",
       "      <td>CA1</td>\n",
       "      <td>0</td>\n",
       "      <td>ナイト</td>\n",
       "      <td>6000</td>\n",
       "      <td>通常</td>\n",
       "      <td>3.916667</td>\n",
       "      <td>4.0</td>\n",
       "      <td>6</td>\n",
       "      <td>1</td>\n",
       "      <td>1</td>\n",
       "    </tr>\n",
       "  </tbody>\n",
       "</table>\n",
       "</div>"
      ],
      "text/plain": [
       "  customer_id   name class gender start_date end_date campaign_id  is_deleted  \\\n",
       "0    OA832399   XXXX   C01      F 2015-05-01      NaT         CA1           0   \n",
       "1    PL270116  XXXXX   C01      M 2015-05-01      NaT         CA1           0   \n",
       "2    OA974876  XXXXX   C01      M 2015-05-01      NaT         CA1           0   \n",
       "3    HD024127  XXXXX   C01      F 2015-05-01      NaT         CA1           0   \n",
       "4    HD661448  XXXXX   C03      F 2015-05-01      NaT         CA1           0   \n",
       "\n",
       "  class_name  price campaign_name      mean  median  max  min  routine_flag  \n",
       "0     オールタイム  10500            通常  4.833333     5.0    8    2             1  \n",
       "1     オールタイム  10500            通常  5.083333     5.0    7    3             1  \n",
       "2     オールタイム  10500            通常  4.583333     5.0    6    3             1  \n",
       "3     オールタイム  10500            通常  4.833333     4.5    7    2             1  \n",
       "4        ナイト   6000            通常  3.916667     4.0    6    1             1  "
      ]
     },
     "execution_count": 130,
     "metadata": {},
     "output_type": "execute_result"
    }
   ],
   "source": [
    "customer_join = pd.merge(customer_join, uselog_customer, on=\"customer_id\", how=\"left\")\n",
    "customer_join = pd.merge(customer_join, uselog_weekday[[\"customer_id\", \"routine_flag\"]], on=\"customer_id\", how=\"left\")\n",
    "customer_join.head()"
   ]
  },
  {
   "cell_type": "code",
   "execution_count": 131,
   "metadata": {},
   "outputs": [
    {
     "data": {
      "text/plain": [
       "customer_id         0\n",
       "name                0\n",
       "class               0\n",
       "gender              0\n",
       "start_date          0\n",
       "end_date         2842\n",
       "campaign_id         0\n",
       "is_deleted          0\n",
       "class_name          0\n",
       "price               0\n",
       "campaign_name       0\n",
       "mean                0\n",
       "median              0\n",
       "max                 0\n",
       "min                 0\n",
       "routine_flag        0\n",
       "dtype: int64"
      ]
     },
     "execution_count": 131,
     "metadata": {},
     "output_type": "execute_result"
    }
   ],
   "source": [
    "customer_join.isnull().sum()"
   ]
  },
  {
   "cell_type": "markdown",
   "metadata": {},
   "source": [
    "結合後に欠損値がないか確認。\n",
    "# ノック28：会員期間を計算\n",
    "会員期間はStart_dateとEnd_dateの差分になる。<br>\n",
    "2019年3月までに退会していないユーザは欠損値が入ってるため、2019年4月30日として会員期間を算出。<br>\n",
    "2019年3月31日で算出すると、実際に退会する人と重複するため未来の日付として2019年4月30日とした。\n"
   ]
  },
  {
   "cell_type": "code",
   "execution_count": 133,
   "metadata": {},
   "outputs": [
    {
     "data": {
      "text/html": [
       "<div>\n",
       "<style scoped>\n",
       "    .dataframe tbody tr th:only-of-type {\n",
       "        vertical-align: middle;\n",
       "    }\n",
       "\n",
       "    .dataframe tbody tr th {\n",
       "        vertical-align: top;\n",
       "    }\n",
       "\n",
       "    .dataframe thead th {\n",
       "        text-align: right;\n",
       "    }\n",
       "</style>\n",
       "<table border=\"1\" class=\"dataframe\">\n",
       "  <thead>\n",
       "    <tr style=\"text-align: right;\">\n",
       "      <th></th>\n",
       "      <th>customer_id</th>\n",
       "      <th>name</th>\n",
       "      <th>class</th>\n",
       "      <th>gender</th>\n",
       "      <th>start_date</th>\n",
       "      <th>end_date</th>\n",
       "      <th>campaign_id</th>\n",
       "      <th>is_deleted</th>\n",
       "      <th>class_name</th>\n",
       "      <th>price</th>\n",
       "      <th>campaign_name</th>\n",
       "      <th>mean</th>\n",
       "      <th>median</th>\n",
       "      <th>max</th>\n",
       "      <th>min</th>\n",
       "      <th>routine_flag</th>\n",
       "      <th>calc_date</th>\n",
       "    </tr>\n",
       "  </thead>\n",
       "  <tbody>\n",
       "    <tr>\n",
       "      <th>0</th>\n",
       "      <td>OA832399</td>\n",
       "      <td>XXXX</td>\n",
       "      <td>C01</td>\n",
       "      <td>F</td>\n",
       "      <td>2015-05-01</td>\n",
       "      <td>NaT</td>\n",
       "      <td>CA1</td>\n",
       "      <td>0</td>\n",
       "      <td>オールタイム</td>\n",
       "      <td>10500</td>\n",
       "      <td>通常</td>\n",
       "      <td>4.833333</td>\n",
       "      <td>5.0</td>\n",
       "      <td>8</td>\n",
       "      <td>2</td>\n",
       "      <td>1</td>\n",
       "      <td>2019-04-30</td>\n",
       "    </tr>\n",
       "    <tr>\n",
       "      <th>1</th>\n",
       "      <td>PL270116</td>\n",
       "      <td>XXXXX</td>\n",
       "      <td>C01</td>\n",
       "      <td>M</td>\n",
       "      <td>2015-05-01</td>\n",
       "      <td>NaT</td>\n",
       "      <td>CA1</td>\n",
       "      <td>0</td>\n",
       "      <td>オールタイム</td>\n",
       "      <td>10500</td>\n",
       "      <td>通常</td>\n",
       "      <td>5.083333</td>\n",
       "      <td>5.0</td>\n",
       "      <td>7</td>\n",
       "      <td>3</td>\n",
       "      <td>1</td>\n",
       "      <td>2019-04-30</td>\n",
       "    </tr>\n",
       "    <tr>\n",
       "      <th>2</th>\n",
       "      <td>OA974876</td>\n",
       "      <td>XXXXX</td>\n",
       "      <td>C01</td>\n",
       "      <td>M</td>\n",
       "      <td>2015-05-01</td>\n",
       "      <td>NaT</td>\n",
       "      <td>CA1</td>\n",
       "      <td>0</td>\n",
       "      <td>オールタイム</td>\n",
       "      <td>10500</td>\n",
       "      <td>通常</td>\n",
       "      <td>4.583333</td>\n",
       "      <td>5.0</td>\n",
       "      <td>6</td>\n",
       "      <td>3</td>\n",
       "      <td>1</td>\n",
       "      <td>2019-04-30</td>\n",
       "    </tr>\n",
       "    <tr>\n",
       "      <th>3</th>\n",
       "      <td>HD024127</td>\n",
       "      <td>XXXXX</td>\n",
       "      <td>C01</td>\n",
       "      <td>F</td>\n",
       "      <td>2015-05-01</td>\n",
       "      <td>NaT</td>\n",
       "      <td>CA1</td>\n",
       "      <td>0</td>\n",
       "      <td>オールタイム</td>\n",
       "      <td>10500</td>\n",
       "      <td>通常</td>\n",
       "      <td>4.833333</td>\n",
       "      <td>4.5</td>\n",
       "      <td>7</td>\n",
       "      <td>2</td>\n",
       "      <td>1</td>\n",
       "      <td>2019-04-30</td>\n",
       "    </tr>\n",
       "    <tr>\n",
       "      <th>4</th>\n",
       "      <td>HD661448</td>\n",
       "      <td>XXXXX</td>\n",
       "      <td>C03</td>\n",
       "      <td>F</td>\n",
       "      <td>2015-05-01</td>\n",
       "      <td>NaT</td>\n",
       "      <td>CA1</td>\n",
       "      <td>0</td>\n",
       "      <td>ナイト</td>\n",
       "      <td>6000</td>\n",
       "      <td>通常</td>\n",
       "      <td>3.916667</td>\n",
       "      <td>4.0</td>\n",
       "      <td>6</td>\n",
       "      <td>1</td>\n",
       "      <td>1</td>\n",
       "      <td>2019-04-30</td>\n",
       "    </tr>\n",
       "  </tbody>\n",
       "</table>\n",
       "</div>"
      ],
      "text/plain": [
       "  customer_id   name class gender start_date end_date campaign_id  is_deleted  \\\n",
       "0    OA832399   XXXX   C01      F 2015-05-01      NaT         CA1           0   \n",
       "1    PL270116  XXXXX   C01      M 2015-05-01      NaT         CA1           0   \n",
       "2    OA974876  XXXXX   C01      M 2015-05-01      NaT         CA1           0   \n",
       "3    HD024127  XXXXX   C01      F 2015-05-01      NaT         CA1           0   \n",
       "4    HD661448  XXXXX   C03      F 2015-05-01      NaT         CA1           0   \n",
       "\n",
       "  class_name  price campaign_name      mean  median  max  min  routine_flag  \\\n",
       "0     オールタイム  10500            通常  4.833333     5.0    8    2             1   \n",
       "1     オールタイム  10500            通常  5.083333     5.0    7    3             1   \n",
       "2     オールタイム  10500            通常  4.583333     5.0    6    3             1   \n",
       "3     オールタイム  10500            通常  4.833333     4.5    7    2             1   \n",
       "4        ナイト   6000            通常  3.916667     4.0    6    1             1   \n",
       "\n",
       "   calc_date  \n",
       "0 2019-04-30  \n",
       "1 2019-04-30  \n",
       "2 2019-04-30  \n",
       "3 2019-04-30  \n",
       "4 2019-04-30  "
      ]
     },
     "execution_count": 133,
     "metadata": {},
     "output_type": "execute_result"
    }
   ],
   "source": [
    "from dateutil.relativedelta import relativedelta\n",
    "customer_join[\"calc_date\"] = customer_join[\"end_date\"]\n",
    "customer_join[\"calc_date\"] = customer_join[\"calc_date\"].fillna(pd.to_datetime(\"20190430\"))\n",
    "customer_join.head()"
   ]
  },
  {
   "cell_type": "markdown",
   "metadata": {},
   "source": [
    "下の<br>\n",
    "1行目：\"membership_period\"のカラムを追加。<br>\n",
    "2行目以降、```relativedelta```を使って、退会日から入会日を差し引き登録期間を算出、これをdeltaとする。<br>\n",
    "    次に、登録期間を月計算して、```membership_period```に代入する。"
   ]
  },
  {
   "cell_type": "code",
   "execution_count": 141,
   "metadata": {},
   "outputs": [
    {
     "name": "stderr",
     "output_type": "stream",
     "text": [
      "C:\\Users\\tfx746\\anaconda3\\lib\\site-packages\\pandas\\core\\indexing.py:670: SettingWithCopyWarning: \n",
      "A value is trying to be set on a copy of a slice from a DataFrame\n",
      "\n",
      "See the caveats in the documentation: https://pandas.pydata.org/pandas-docs/stable/user_guide/indexing.html#returning-a-view-versus-a-copy\n",
      "  self._setitem_with_indexer(indexer, value)\n"
     ]
    },
    {
     "data": {
      "text/html": [
       "<div>\n",
       "<style scoped>\n",
       "    .dataframe tbody tr th:only-of-type {\n",
       "        vertical-align: middle;\n",
       "    }\n",
       "\n",
       "    .dataframe tbody tr th {\n",
       "        vertical-align: top;\n",
       "    }\n",
       "\n",
       "    .dataframe thead th {\n",
       "        text-align: right;\n",
       "    }\n",
       "</style>\n",
       "<table border=\"1\" class=\"dataframe\">\n",
       "  <thead>\n",
       "    <tr style=\"text-align: right;\">\n",
       "      <th></th>\n",
       "      <th>customer_id</th>\n",
       "      <th>name</th>\n",
       "      <th>class</th>\n",
       "      <th>gender</th>\n",
       "      <th>start_date</th>\n",
       "      <th>end_date</th>\n",
       "      <th>campaign_id</th>\n",
       "      <th>is_deleted</th>\n",
       "      <th>class_name</th>\n",
       "      <th>price</th>\n",
       "      <th>campaign_name</th>\n",
       "      <th>mean</th>\n",
       "      <th>median</th>\n",
       "      <th>max</th>\n",
       "      <th>min</th>\n",
       "      <th>routine_flag</th>\n",
       "      <th>calc_date</th>\n",
       "      <th>membership_period</th>\n",
       "    </tr>\n",
       "  </thead>\n",
       "  <tbody>\n",
       "    <tr>\n",
       "      <th>0</th>\n",
       "      <td>OA832399</td>\n",
       "      <td>XXXX</td>\n",
       "      <td>C01</td>\n",
       "      <td>F</td>\n",
       "      <td>2015-05-01</td>\n",
       "      <td>NaT</td>\n",
       "      <td>CA1</td>\n",
       "      <td>0</td>\n",
       "      <td>オールタイム</td>\n",
       "      <td>10500</td>\n",
       "      <td>通常</td>\n",
       "      <td>4.833333</td>\n",
       "      <td>5.0</td>\n",
       "      <td>8</td>\n",
       "      <td>2</td>\n",
       "      <td>1</td>\n",
       "      <td>2019-04-30</td>\n",
       "      <td>47</td>\n",
       "    </tr>\n",
       "    <tr>\n",
       "      <th>1</th>\n",
       "      <td>PL270116</td>\n",
       "      <td>XXXXX</td>\n",
       "      <td>C01</td>\n",
       "      <td>M</td>\n",
       "      <td>2015-05-01</td>\n",
       "      <td>NaT</td>\n",
       "      <td>CA1</td>\n",
       "      <td>0</td>\n",
       "      <td>オールタイム</td>\n",
       "      <td>10500</td>\n",
       "      <td>通常</td>\n",
       "      <td>5.083333</td>\n",
       "      <td>5.0</td>\n",
       "      <td>7</td>\n",
       "      <td>3</td>\n",
       "      <td>1</td>\n",
       "      <td>2019-04-30</td>\n",
       "      <td>47</td>\n",
       "    </tr>\n",
       "    <tr>\n",
       "      <th>2</th>\n",
       "      <td>OA974876</td>\n",
       "      <td>XXXXX</td>\n",
       "      <td>C01</td>\n",
       "      <td>M</td>\n",
       "      <td>2015-05-01</td>\n",
       "      <td>NaT</td>\n",
       "      <td>CA1</td>\n",
       "      <td>0</td>\n",
       "      <td>オールタイム</td>\n",
       "      <td>10500</td>\n",
       "      <td>通常</td>\n",
       "      <td>4.583333</td>\n",
       "      <td>5.0</td>\n",
       "      <td>6</td>\n",
       "      <td>3</td>\n",
       "      <td>1</td>\n",
       "      <td>2019-04-30</td>\n",
       "      <td>47</td>\n",
       "    </tr>\n",
       "    <tr>\n",
       "      <th>3</th>\n",
       "      <td>HD024127</td>\n",
       "      <td>XXXXX</td>\n",
       "      <td>C01</td>\n",
       "      <td>F</td>\n",
       "      <td>2015-05-01</td>\n",
       "      <td>NaT</td>\n",
       "      <td>CA1</td>\n",
       "      <td>0</td>\n",
       "      <td>オールタイム</td>\n",
       "      <td>10500</td>\n",
       "      <td>通常</td>\n",
       "      <td>4.833333</td>\n",
       "      <td>4.5</td>\n",
       "      <td>7</td>\n",
       "      <td>2</td>\n",
       "      <td>1</td>\n",
       "      <td>2019-04-30</td>\n",
       "      <td>47</td>\n",
       "    </tr>\n",
       "    <tr>\n",
       "      <th>4</th>\n",
       "      <td>HD661448</td>\n",
       "      <td>XXXXX</td>\n",
       "      <td>C03</td>\n",
       "      <td>F</td>\n",
       "      <td>2015-05-01</td>\n",
       "      <td>NaT</td>\n",
       "      <td>CA1</td>\n",
       "      <td>0</td>\n",
       "      <td>ナイト</td>\n",
       "      <td>6000</td>\n",
       "      <td>通常</td>\n",
       "      <td>3.916667</td>\n",
       "      <td>4.0</td>\n",
       "      <td>6</td>\n",
       "      <td>1</td>\n",
       "      <td>1</td>\n",
       "      <td>2019-04-30</td>\n",
       "      <td>47</td>\n",
       "    </tr>\n",
       "  </tbody>\n",
       "</table>\n",
       "</div>"
      ],
      "text/plain": [
       "  customer_id   name class gender start_date end_date campaign_id  is_deleted  \\\n",
       "0    OA832399   XXXX   C01      F 2015-05-01      NaT         CA1           0   \n",
       "1    PL270116  XXXXX   C01      M 2015-05-01      NaT         CA1           0   \n",
       "2    OA974876  XXXXX   C01      M 2015-05-01      NaT         CA1           0   \n",
       "3    HD024127  XXXXX   C01      F 2015-05-01      NaT         CA1           0   \n",
       "4    HD661448  XXXXX   C03      F 2015-05-01      NaT         CA1           0   \n",
       "\n",
       "  class_name  price campaign_name      mean  median  max  min  routine_flag  \\\n",
       "0     オールタイム  10500            通常  4.833333     5.0    8    2             1   \n",
       "1     オールタイム  10500            通常  5.083333     5.0    7    3             1   \n",
       "2     オールタイム  10500            通常  4.583333     5.0    6    3             1   \n",
       "3     オールタイム  10500            通常  4.833333     4.5    7    2             1   \n",
       "4        ナイト   6000            通常  3.916667     4.0    6    1             1   \n",
       "\n",
       "   calc_date  membership_period  \n",
       "0 2019-04-30                 47  \n",
       "1 2019-04-30                 47  \n",
       "2 2019-04-30                 47  \n",
       "3 2019-04-30                 47  \n",
       "4 2019-04-30                 47  "
      ]
     },
     "execution_count": 141,
     "metadata": {},
     "output_type": "execute_result"
    }
   ],
   "source": [
    "customer_join[\"membership_period\"] = 0\n",
    "for i in range(len(customer_join)):\n",
    "    delta= relativedelta(customer_join[\"calc_date\"].iloc[i], customer_join[\"start_date\"].iloc[i])\n",
    "    customer_join[\"membership_period\"].iloc[i] = delta.years*12 + delta.months\n",
    "customer_join.head()"
   ]
  },
  {
   "cell_type": "markdown",
   "metadata": {},
   "source": [
    "ilocで列番号の指定が可能<br>\n",
    "```relativedelta```で日付を月単位で加算減算できる<br>\n",
    "relativedelta(datetime_new, datetime_past)"
   ]
  },
  {
   "cell_type": "code",
   "execution_count": 142,
   "metadata": {},
   "outputs": [
    {
     "data": {
      "text/plain": [
       "relativedelta(years=+3, months=+11, days=+29)"
      ]
     },
     "execution_count": 142,
     "metadata": {},
     "output_type": "execute_result"
    }
   ],
   "source": [
    "relativedelta(customer_join[\"calc_date\"].iloc[2], customer_join[\"start_date\"].iloc[2])"
   ]
  },
  {
   "cell_type": "markdown",
   "metadata": {},
   "source": [
    "# ノック29：顧客行動の各種統計量を把握\n",
    "基本の統計量を```describe```を使って算出する"
   ]
  },
  {
   "cell_type": "code",
   "execution_count": 144,
   "metadata": {},
   "outputs": [
    {
     "data": {
      "text/html": [
       "<div>\n",
       "<style scoped>\n",
       "    .dataframe tbody tr th:only-of-type {\n",
       "        vertical-align: middle;\n",
       "    }\n",
       "\n",
       "    .dataframe tbody tr th {\n",
       "        vertical-align: top;\n",
       "    }\n",
       "\n",
       "    .dataframe thead th {\n",
       "        text-align: right;\n",
       "    }\n",
       "</style>\n",
       "<table border=\"1\" class=\"dataframe\">\n",
       "  <thead>\n",
       "    <tr style=\"text-align: right;\">\n",
       "      <th></th>\n",
       "      <th>mean</th>\n",
       "      <th>median</th>\n",
       "      <th>max</th>\n",
       "      <th>min</th>\n",
       "    </tr>\n",
       "  </thead>\n",
       "  <tbody>\n",
       "    <tr>\n",
       "      <th>count</th>\n",
       "      <td>4192.000000</td>\n",
       "      <td>4192.000000</td>\n",
       "      <td>4192.000000</td>\n",
       "      <td>4192.000000</td>\n",
       "    </tr>\n",
       "    <tr>\n",
       "      <th>mean</th>\n",
       "      <td>5.333127</td>\n",
       "      <td>5.250596</td>\n",
       "      <td>7.823950</td>\n",
       "      <td>3.041269</td>\n",
       "    </tr>\n",
       "    <tr>\n",
       "      <th>std</th>\n",
       "      <td>1.777533</td>\n",
       "      <td>1.874874</td>\n",
       "      <td>2.168959</td>\n",
       "      <td>1.951565</td>\n",
       "    </tr>\n",
       "    <tr>\n",
       "      <th>min</th>\n",
       "      <td>1.000000</td>\n",
       "      <td>1.000000</td>\n",
       "      <td>1.000000</td>\n",
       "      <td>1.000000</td>\n",
       "    </tr>\n",
       "    <tr>\n",
       "      <th>25%</th>\n",
       "      <td>4.250000</td>\n",
       "      <td>4.000000</td>\n",
       "      <td>7.000000</td>\n",
       "      <td>2.000000</td>\n",
       "    </tr>\n",
       "    <tr>\n",
       "      <th>50%</th>\n",
       "      <td>5.000000</td>\n",
       "      <td>5.000000</td>\n",
       "      <td>8.000000</td>\n",
       "      <td>3.000000</td>\n",
       "    </tr>\n",
       "    <tr>\n",
       "      <th>75%</th>\n",
       "      <td>6.416667</td>\n",
       "      <td>6.500000</td>\n",
       "      <td>9.000000</td>\n",
       "      <td>4.000000</td>\n",
       "    </tr>\n",
       "    <tr>\n",
       "      <th>max</th>\n",
       "      <td>12.000000</td>\n",
       "      <td>12.000000</td>\n",
       "      <td>14.000000</td>\n",
       "      <td>12.000000</td>\n",
       "    </tr>\n",
       "  </tbody>\n",
       "</table>\n",
       "</div>"
      ],
      "text/plain": [
       "              mean       median          max          min\n",
       "count  4192.000000  4192.000000  4192.000000  4192.000000\n",
       "mean      5.333127     5.250596     7.823950     3.041269\n",
       "std       1.777533     1.874874     2.168959     1.951565\n",
       "min       1.000000     1.000000     1.000000     1.000000\n",
       "25%       4.250000     4.000000     7.000000     2.000000\n",
       "50%       5.000000     5.000000     8.000000     3.000000\n",
       "75%       6.416667     6.500000     9.000000     4.000000\n",
       "max      12.000000    12.000000    14.000000    12.000000"
      ]
     },
     "execution_count": 144,
     "metadata": {},
     "output_type": "execute_result"
    }
   ],
   "source": [
    "customer_join[[\"mean\", \"median\", \"max\", \"min\"]].describe()"
   ]
  },
  {
   "cell_type": "markdown",
   "metadata": {},
   "source": [
    "列内のmeanは顧客の月内平均利用回数<br>\n",
    "行内のmeanは顧客の月内平均利用回数の平均<br>\n",
    "### 次にroutine_flagを集計\n"
   ]
  },
  {
   "cell_type": "code",
   "execution_count": 145,
   "metadata": {},
   "outputs": [
    {
     "data": {
      "text/plain": [
       "routine_flag\n",
       "0     779\n",
       "1    3413\n",
       "Name: customer_id, dtype: int64"
      ]
     },
     "execution_count": 145,
     "metadata": {},
     "output_type": "execute_result"
    }
   ],
   "source": [
    "customer_join.groupby(\"routine_flag\").count()[\"customer_id\"]"
   ]
  },
  {
   "cell_type": "markdown",
   "metadata": {},
   "source": [
    "1は同月の同じ曜日を全部出席していた顧客になる。<br>\n",
    "このデータから定期的にきちんと利用しているユーザは3413名いることが分かる<br>\n",
    "### 最後に会員数の分布をみる"
   ]
  },
  {
   "cell_type": "code",
   "execution_count": 146,
   "metadata": {},
   "outputs": [
    {
     "data": {
      "text/plain": [
       "(array([857., 774., 395., 368., 311., 331., 323., 237., 288., 308.]),\n",
       " array([ 1. ,  5.6, 10.2, 14.8, 19.4, 24. , 28.6, 33.2, 37.8, 42.4, 47. ]),\n",
       " <a list of 10 Patch objects>)"
      ]
     },
     "execution_count": 146,
     "metadata": {},
     "output_type": "execute_result"
    },
    {
     "data": {
      "image/png": "[encoded data removed]",
      "text/plain": [
       "<Figure size 432x288 with 1 Axes>"
      ]
     },
     "metadata": {
      "needs_background": "light"
     },
     "output_type": "display_data"
    }
   ],
   "source": [
    "import matplotlib.pyplot as plt\n",
    "%matplotlib inline\n",
    "plt.hist(customer_join[\"membership_period\"])"
   ]
  },
  {
   "cell_type": "markdown",
   "metadata": {},
   "source": [
    "この結果から、会員期間が10か月以内のユーザ数が非常に多い事が分かる。<br>\n",
    "これは大半のユーザが10か月を境に退会する可能性が高い傾向であることが分かる。<br>\n",
    "# ノック30：退会ユーザと継続ユーザの違いを把握\n",
    "ここでは退会ユーザの特徴を探っていく。<br>\n",
    "退会ユーザと、継続ユーザをdescribeで比較する"
   ]
  },
  {
   "cell_type": "code",
   "execution_count": 150,
   "metadata": {},
   "outputs": [
    {
     "data": {
      "text/html": [
       "<div>\n",
       "<style scoped>\n",
       "    .dataframe tbody tr th:only-of-type {\n",
       "        vertical-align: middle;\n",
       "    }\n",
       "\n",
       "    .dataframe tbody tr th {\n",
       "        vertical-align: top;\n",
       "    }\n",
       "\n",
       "    .dataframe thead th {\n",
       "        text-align: right;\n",
       "    }\n",
       "</style>\n",
       "<table border=\"1\" class=\"dataframe\">\n",
       "  <thead>\n",
       "    <tr style=\"text-align: right;\">\n",
       "      <th></th>\n",
       "      <th>is_deleted</th>\n",
       "      <th>price</th>\n",
       "      <th>mean</th>\n",
       "      <th>median</th>\n",
       "      <th>max</th>\n",
       "      <th>min</th>\n",
       "      <th>routine_flag</th>\n",
       "      <th>membership_period</th>\n",
       "    </tr>\n",
       "  </thead>\n",
       "  <tbody>\n",
       "    <tr>\n",
       "      <th>count</th>\n",
       "      <td>1350.0</td>\n",
       "      <td>1350.000000</td>\n",
       "      <td>1350.000000</td>\n",
       "      <td>1350.000000</td>\n",
       "      <td>1350.000000</td>\n",
       "      <td>1350.000000</td>\n",
       "      <td>1350.000000</td>\n",
       "      <td>1350.000000</td>\n",
       "    </tr>\n",
       "    <tr>\n",
       "      <th>mean</th>\n",
       "      <td>1.0</td>\n",
       "      <td>8595.555556</td>\n",
       "      <td>3.865474</td>\n",
       "      <td>3.621852</td>\n",
       "      <td>6.461481</td>\n",
       "      <td>1.821481</td>\n",
       "      <td>0.456296</td>\n",
       "      <td>8.026667</td>\n",
       "    </tr>\n",
       "    <tr>\n",
       "      <th>std</th>\n",
       "      <td>0.0</td>\n",
       "      <td>1949.163652</td>\n",
       "      <td>1.246385</td>\n",
       "      <td>1.270847</td>\n",
       "      <td>2.584021</td>\n",
       "      <td>0.976361</td>\n",
       "      <td>0.498271</td>\n",
       "      <td>5.033692</td>\n",
       "    </tr>\n",
       "    <tr>\n",
       "      <th>min</th>\n",
       "      <td>1.0</td>\n",
       "      <td>6000.000000</td>\n",
       "      <td>1.000000</td>\n",
       "      <td>1.000000</td>\n",
       "      <td>1.000000</td>\n",
       "      <td>1.000000</td>\n",
       "      <td>0.000000</td>\n",
       "      <td>1.000000</td>\n",
       "    </tr>\n",
       "    <tr>\n",
       "      <th>25%</th>\n",
       "      <td>1.0</td>\n",
       "      <td>6000.000000</td>\n",
       "      <td>3.000000</td>\n",
       "      <td>3.000000</td>\n",
       "      <td>4.000000</td>\n",
       "      <td>1.000000</td>\n",
       "      <td>0.000000</td>\n",
       "      <td>4.000000</td>\n",
       "    </tr>\n",
       "    <tr>\n",
       "      <th>50%</th>\n",
       "      <td>1.0</td>\n",
       "      <td>7500.000000</td>\n",
       "      <td>4.000000</td>\n",
       "      <td>4.000000</td>\n",
       "      <td>7.000000</td>\n",
       "      <td>2.000000</td>\n",
       "      <td>0.000000</td>\n",
       "      <td>7.000000</td>\n",
       "    </tr>\n",
       "    <tr>\n",
       "      <th>75%</th>\n",
       "      <td>1.0</td>\n",
       "      <td>10500.000000</td>\n",
       "      <td>4.666667</td>\n",
       "      <td>4.500000</td>\n",
       "      <td>8.000000</td>\n",
       "      <td>2.000000</td>\n",
       "      <td>1.000000</td>\n",
       "      <td>11.000000</td>\n",
       "    </tr>\n",
       "    <tr>\n",
       "      <th>max</th>\n",
       "      <td>1.0</td>\n",
       "      <td>10500.000000</td>\n",
       "      <td>9.000000</td>\n",
       "      <td>9.000000</td>\n",
       "      <td>13.000000</td>\n",
       "      <td>8.000000</td>\n",
       "      <td>1.000000</td>\n",
       "      <td>23.000000</td>\n",
       "    </tr>\n",
       "  </tbody>\n",
       "</table>\n",
       "</div>"
      ],
      "text/plain": [
       "       is_deleted         price         mean       median          max  \\\n",
       "count      1350.0   1350.000000  1350.000000  1350.000000  1350.000000   \n",
       "mean          1.0   8595.555556     3.865474     3.621852     6.461481   \n",
       "std           0.0   1949.163652     1.246385     1.270847     2.584021   \n",
       "min           1.0   6000.000000     1.000000     1.000000     1.000000   \n",
       "25%           1.0   6000.000000     3.000000     3.000000     4.000000   \n",
       "50%           1.0   7500.000000     4.000000     4.000000     7.000000   \n",
       "75%           1.0  10500.000000     4.666667     4.500000     8.000000   \n",
       "max           1.0  10500.000000     9.000000     9.000000    13.000000   \n",
       "\n",
       "               min  routine_flag  membership_period  \n",
       "count  1350.000000   1350.000000        1350.000000  \n",
       "mean      1.821481      0.456296           8.026667  \n",
       "std       0.976361      0.498271           5.033692  \n",
       "min       1.000000      0.000000           1.000000  \n",
       "25%       1.000000      0.000000           4.000000  \n",
       "50%       2.000000      0.000000           7.000000  \n",
       "75%       2.000000      1.000000          11.000000  \n",
       "max       8.000000      1.000000          23.000000  "
      ]
     },
     "execution_count": 150,
     "metadata": {},
     "output_type": "execute_result"
    }
   ],
   "source": [
    "customer_end = customer_join.loc[customer_join[\"is_deleted\"]==1]\n",
    "customer_end.describe()"
   ]
  },
  {
   "cell_type": "code",
   "execution_count": 151,
   "metadata": {},
   "outputs": [
    {
     "data": {
      "text/html": [
       "<div>\n",
       "<style scoped>\n",
       "    .dataframe tbody tr th:only-of-type {\n",
       "        vertical-align: middle;\n",
       "    }\n",
       "\n",
       "    .dataframe tbody tr th {\n",
       "        vertical-align: top;\n",
       "    }\n",
       "\n",
       "    .dataframe thead th {\n",
       "        text-align: right;\n",
       "    }\n",
       "</style>\n",
       "<table border=\"1\" class=\"dataframe\">\n",
       "  <thead>\n",
       "    <tr style=\"text-align: right;\">\n",
       "      <th></th>\n",
       "      <th>is_deleted</th>\n",
       "      <th>price</th>\n",
       "      <th>mean</th>\n",
       "      <th>median</th>\n",
       "      <th>max</th>\n",
       "      <th>min</th>\n",
       "      <th>routine_flag</th>\n",
       "      <th>membership_period</th>\n",
       "    </tr>\n",
       "  </thead>\n",
       "  <tbody>\n",
       "    <tr>\n",
       "      <th>count</th>\n",
       "      <td>2842.0</td>\n",
       "      <td>2842.000000</td>\n",
       "      <td>2842.000000</td>\n",
       "      <td>2842.000000</td>\n",
       "      <td>2842.000000</td>\n",
       "      <td>2842.000000</td>\n",
       "      <td>2842.000000</td>\n",
       "      <td>2842.000000</td>\n",
       "    </tr>\n",
       "    <tr>\n",
       "      <th>mean</th>\n",
       "      <td>0.0</td>\n",
       "      <td>8542.927516</td>\n",
       "      <td>6.030288</td>\n",
       "      <td>6.024279</td>\n",
       "      <td>8.471147</td>\n",
       "      <td>3.620690</td>\n",
       "      <td>0.984166</td>\n",
       "      <td>23.970443</td>\n",
       "    </tr>\n",
       "    <tr>\n",
       "      <th>std</th>\n",
       "      <td>0.0</td>\n",
       "      <td>1977.189779</td>\n",
       "      <td>1.553587</td>\n",
       "      <td>1.599765</td>\n",
       "      <td>1.571048</td>\n",
       "      <td>2.030488</td>\n",
       "      <td>0.124855</td>\n",
       "      <td>13.746761</td>\n",
       "    </tr>\n",
       "    <tr>\n",
       "      <th>min</th>\n",
       "      <td>0.0</td>\n",
       "      <td>6000.000000</td>\n",
       "      <td>3.166667</td>\n",
       "      <td>3.000000</td>\n",
       "      <td>5.000000</td>\n",
       "      <td>1.000000</td>\n",
       "      <td>0.000000</td>\n",
       "      <td>1.000000</td>\n",
       "    </tr>\n",
       "    <tr>\n",
       "      <th>25%</th>\n",
       "      <td>0.0</td>\n",
       "      <td>6000.000000</td>\n",
       "      <td>4.833333</td>\n",
       "      <td>5.000000</td>\n",
       "      <td>7.000000</td>\n",
       "      <td>2.000000</td>\n",
       "      <td>1.000000</td>\n",
       "      <td>12.000000</td>\n",
       "    </tr>\n",
       "    <tr>\n",
       "      <th>50%</th>\n",
       "      <td>0.0</td>\n",
       "      <td>7500.000000</td>\n",
       "      <td>5.583333</td>\n",
       "      <td>5.500000</td>\n",
       "      <td>8.000000</td>\n",
       "      <td>3.000000</td>\n",
       "      <td>1.000000</td>\n",
       "      <td>24.000000</td>\n",
       "    </tr>\n",
       "    <tr>\n",
       "      <th>75%</th>\n",
       "      <td>0.0</td>\n",
       "      <td>10500.000000</td>\n",
       "      <td>7.178030</td>\n",
       "      <td>7.000000</td>\n",
       "      <td>10.000000</td>\n",
       "      <td>5.000000</td>\n",
       "      <td>1.000000</td>\n",
       "      <td>35.000000</td>\n",
       "    </tr>\n",
       "    <tr>\n",
       "      <th>max</th>\n",
       "      <td>0.0</td>\n",
       "      <td>10500.000000</td>\n",
       "      <td>12.000000</td>\n",
       "      <td>12.000000</td>\n",
       "      <td>14.000000</td>\n",
       "      <td>12.000000</td>\n",
       "      <td>1.000000</td>\n",
       "      <td>47.000000</td>\n",
       "    </tr>\n",
       "  </tbody>\n",
       "</table>\n",
       "</div>"
      ],
      "text/plain": [
       "       is_deleted         price         mean       median          max  \\\n",
       "count      2842.0   2842.000000  2842.000000  2842.000000  2842.000000   \n",
       "mean          0.0   8542.927516     6.030288     6.024279     8.471147   \n",
       "std           0.0   1977.189779     1.553587     1.599765     1.571048   \n",
       "min           0.0   6000.000000     3.166667     3.000000     5.000000   \n",
       "25%           0.0   6000.000000     4.833333     5.000000     7.000000   \n",
       "50%           0.0   7500.000000     5.583333     5.500000     8.000000   \n",
       "75%           0.0  10500.000000     7.178030     7.000000    10.000000   \n",
       "max           0.0  10500.000000    12.000000    12.000000    14.000000   \n",
       "\n",
       "               min  routine_flag  membership_period  \n",
       "count  2842.000000   2842.000000        2842.000000  \n",
       "mean      3.620690      0.984166          23.970443  \n",
       "std       2.030488      0.124855          13.746761  \n",
       "min       1.000000      0.000000           1.000000  \n",
       "25%       2.000000      1.000000          12.000000  \n",
       "50%       3.000000      1.000000          24.000000  \n",
       "75%       5.000000      1.000000          35.000000  \n",
       "max      12.000000      1.000000          47.000000  "
      ]
     },
     "execution_count": 151,
     "metadata": {},
     "output_type": "execute_result"
    }
   ],
   "source": [
    "customer_stay = customer_join.loc[customer_join[\"is_deleted\"]==0]\n",
    "customer_stay.describe()"
   ]
  },
  {
   "cell_type": "markdown",
   "metadata": {},
   "source": [
    "routine_flagの平均値を見ると、継続ユーザは0.98と多くのユーザが定期的に利用していることが分かる。<br>\n",
    "逆に退会ユーザは0.46と定期利用するユーザは半数以下であった。<br>\n",
    "このことから退会ユーザは定期利用できない傾向が分かる。\n",
    "## 最後にcustomer_joinのデータをCSV化して出力する"
   ]
  },
  {
   "cell_type": "code",
   "execution_count": 152,
   "metadata": {},
   "outputs": [],
   "source": [
    "customer_join.to_csv(\"customer_join.csv\", index=False)"
   ]
  },
  {
   "cell_type": "code",
   "execution_count": null,
   "metadata": {},
   "outputs": [],
   "source": []
  }
 ],
 "metadata": {
  "kernelspec": {
   "display_name": "Python 3",
   "language": "python",
   "name": "python3"
  },
  "language_info": {
   "codemirror_mode": {
    "name": "ipython",
    "version": 3
   },
   "file_extension": ".py",
   "mimetype": "text/x-python",
   "name": "python",
   "nbconvert_exporter": "python",
   "pygments_lexer": "ipython3",
   "version": "3.6.5"
  }
 },
 "nbformat": 4,
 "nbformat_minor": 4
}
